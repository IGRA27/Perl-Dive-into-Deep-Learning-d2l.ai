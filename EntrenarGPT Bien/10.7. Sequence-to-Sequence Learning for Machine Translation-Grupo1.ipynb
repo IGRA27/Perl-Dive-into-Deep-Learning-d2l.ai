{
 "cells": [
  {
   "cell_type": "markdown",
   "id": "22471ee5",
   "metadata": {},
   "source": [
    "### ALEJANDRO MOYA, ISAAC REYES, JOSÉ GUZMÁN\n",
    "## 10.7. Sequence-to-Sequence Learning for Machine Translation\n",
    "In so-called sequence-to-sequence problems such as machine translation\n",
    "(as discussed in Section 10.5),\n",
    "where inputs and outputs each consist \n",
    "of variable-length unaligned sequences,\n",
    "we generally rely on encoder--decoder architectures\n",
    "(Section 10.6).\n",
    "In this section,\n",
    "we will demonstrate the application \n",
    "of an encoder--decoder architecture,\n",
    "where both the encoder and decoder \n",
    "are implemented as RNNs,\n",
    "to the task of machine translation\n",
    "(Cho et al., 2014, Sutskever et al., 2014).\n",
    "\n",
    "Here, the encoder RNN will take a variable-length sequence as input \n",
    "and transform it into a fixed-shape hidden state.\n",
    "Later, in Section 11,\n",
    "we will introduce attention mechanisms, \n",
    "which allow us to access encoded inputs\n",
    "without having to compress the entire input\n",
    "into a single fixed-length representation.\n",
    "\n",
    "Then to generate the output sequence, \n",
    "one token at a time,\n",
    "the decoder model, \n",
    "consisting of a separate RNN,\n",
    "will predict each successive target token\n",
    "given both the input sequence\n",
    "and the preceding tokens in the output.\n",
    "During training, the decoder will typically\n",
    "be conditioned upon the preceding tokens\n",
    "in the official \"ground truth\" label. \n",
    "However, at test time, we will want to condition\n",
    "each output of the decoder on the tokens already predicted. \n",
    "Note that if we ignore the encoder,\n",
    "the decoder in a sequence-to-sequence architecture \n",
    "behaves just like a normal language model.\n",
    "Fig. 10.7.1 illustrates\n",
    "how to use two RNNs\n",
    "for sequence-to-sequence learning\n",
    "in machine translation.\n",
    "\n",
    "\n",
    "![Sequence-to-sequence learning with an RNN encoder and an RNN decoder.](http://d2l.ai/_images/seq2seq.svg)\n",
    "Fig. 10.7.1 Sequence-to-sequence learning with an RNN encoder and an RNN decoder.\n",
    "\n",
    "In Fig. 10.7.1,\n",
    "the special \"<eos>\" token\n",
    "marks the end of the sequence.\n",
    "Our model can stop making predictions\n",
    "once this token is generated.\n",
    "At the initial time step of the RNN decoder,\n",
    "there are two special design decisions to be aware of:\n",
    "First, we begin every input with a special \n",
    "beginning-of-sequence \"<bos>\" token.\n",
    "Second, we may feed\n",
    "the final hidden state of the encoder\n",
    "into the decoder\n",
    "at every single decoding time step (Cho et al., 2014).\n",
    "In some other designs,\n",
    "such as that of Sutskever et al. (2014),\n",
    "the final hidden state of the RNN encoder\n",
    "is used\n",
    "to initiate the hidden state of the decoder\n",
    "only at the first decoding step."
   ]
  },
  {
   "cell_type": "code",
   "execution_count": 1,
   "id": "39f74011",
   "metadata": {},
   "outputs": [],
   "source": [
    "use strict;\n",
    "use warnings;\n",
    "use Data::Dump qw(dump);\n",
    "#use AI::MXNet qw(mx);\n",
    "use List::Util qw(min);\n",
    "use List::Util qw(zip);\n",
    "use d2l;\n",
    "IPerl->load_plugin('Chart::Plotly'); #cargamos todo lo necesario"
   ]
  },
  {
   "cell_type": "markdown",
   "id": "9699cc6b",
   "metadata": {},
   "source": [
    "# 10.7.1. Teacher Forcing\n",
    "While running the encoder on the input sequence is relatively straightforward, handling the input and output of the decoder requires more care. The most common approach is sometimes called teacher forcing. Here, the original target sequence (token labels) is fed into the decoder as input. More concretely, the special beginning-of-sequence token and the original target sequence, excluding the final token, are concatenated as input to the decoder, while the decoder output (labels for training) is the original target sequence, shifted by one token: “<bos>”, “Ils”, “regardent”, “.” ->\n",
    " “Ils”, “regardent”, “.”, “<eos>” (Fig. 10.7.1).\n",
    "\n",
    "Our implementation in Section 10.5.3 prepared training data for teacher forcing, where shifting tokens for self-supervised learning is similar to the training of language models in Section 9.3. An alternative approach is to feed the predicted token from the previous time step as the current input to the decoder.\n",
    "\n",
    "In the following, we explain the design depicted in Fig. 10.7.1 in greater detail. We will train this model for machine translation on the English–French dataset as introduced in Section 10.5."
   ]
  },
  {
   "cell_type": "markdown",
   "id": "d9626fd2",
   "metadata": {},
   "source": [
    "# 10.7.2. Encoder\n",
    "## Encoder\n",
    "\n",
    "Recall that the encoder transforms an input sequence of variable length\n",
    "into a fixed-shape *context variable* $\\mathbf{c}$ (see Fig. 10.7.1).\n",
    "\n",
    "\n",
    "Consider a single sequence example (batch size 1).\n",
    "Suppose the input sequence is $x_1, \\ldots, x_T$, \n",
    "such that $x_t$ is the $t^{\\textrm{th}}$ token.\n",
    "At time step $t$, the RNN transforms\n",
    "the input feature vector $\\mathbf{x}_t$ for $x_t$\n",
    "and the hidden state $\\mathbf{h} _{t-1}$ \n",
    "from the previous time step \n",
    "into the current hidden state $\\mathbf{h}_t$.\n",
    "We can use a function $f$ to express \n",
    "the transformation of the RNN's recurrent layer:\n",
    "\n",
    "$$\\mathbf{h}_t = f(\\mathbf{x}_t, \\mathbf{h}_{t-1}). $$\n",
    "\n",
    "In general, the encoder transforms \n",
    "the hidden states at all time steps\n",
    "into a context variable through a customized function $q$:\n",
    "\n",
    "$$\\mathbf{c} =  q(\\mathbf{h}_1, \\ldots, \\mathbf{h}_T).$$\n",
    "\n",
    "For example, inFig. 10.7.1,\n",
    "the context variable is just the hidden state $\\mathbf{h}_T$\n",
    "corresponding to the encoder RNN's representation\n",
    "after processing the final token of the input sequence.\n",
    "\n",
    "In this example, we have used a unidirectional RNN\n",
    "to design the encoder,\n",
    "where the hidden state only depends on the input subsequence \n",
    "at and before the time step of the hidden state.\n",
    "We can also construct encoders using bidirectional RNNs.\n",
    "In this case, a hidden state depends on the subsequence before and after the time step \n",
    "(including the input at the current time step), \n",
    "which encodes the information of the entire sequence.\n",
    "\n",
    "\n",
    "Now let's [**implement the RNN encoder**].\n",
    "Note that we use an *embedding layer*\n",
    "to obtain the feature vector for each token in the input sequence.\n",
    "The weight of an embedding layer is a matrix,\n",
    "where the number of rows corresponds to \n",
    "the size of the input vocabulary (`vocab_size`)\n",
    "and number of columns corresponds to \n",
    "the feature vector's dimension (`embed_size`).\n",
    "For any input token index $i$,\n",
    "the embedding layer fetches the $i^{\\textrm{th}}$ row \n",
    "(starting from 0) of the weight matrix\n",
    "to return its feature vector.\n",
    "Here we implement the encoder with a multilayer GRU."
   ]
  },
  {
   "cell_type": "code",
   "execution_count": 2,
   "id": "8ec2ba04",
   "metadata": {},
   "outputs": [
    {
     "data": {
      "text/plain": [
       "1"
      ]
     },
     "execution_count": 2,
     "metadata": {},
     "output_type": "execute_result"
    }
   ],
   "source": [
    "package Seq2SeqEncoder{\n",
    "\n",
    "use base (\"d2l::Encoder\"); \n",
    "\n",
    "sub new {\n",
    "    my ($class,%args)=(shift,d2l->get_arguments(vocab_size=>undef,\n",
    "                                                embed_size=>undef,\n",
    "                                                num_hiddens=>undef,\n",
    "                                                num_layers=>undef,\n",
    "                                                dropout=>0,\\@_));\n",
    "                                                \n",
    "    my $self=$class->SUPER::new(); #Llamamos al constructor de la clase base\n",
    "    $self->{embedding}=mx->gluon->nn->Embedding($args{vocab_size},$args{embed_size}); #Creamos una capa de incrustacion \n",
    "    $self->{rnn}=new d2l::GRU($args{num_hiddens}, $args{num_layers}, $args{dropout}); #Creamos una red GRU\n",
    "    \n",
    "    map {$self->register_child($self->{$_})} ('embedding','rnn'); #Registramos como subcomponentes\n",
    "    $self->initialize(mx->init->Xavier());  \n",
    "    return bless ($self, $class); #Devuelvemos lo instanciado\n",
    "}\n",
    "\n",
    "sub forward{\n",
    "        my ($self,$X,%args)=(splice(@_,0,2),d2l->get_arguments(\\@_));       \n",
    "        my $embs = $self->{embedding}->forward(mx->nd->transpose($X));#la pasamos por embedding\n",
    "        my ($outputs, $state)= @{$self->{rnn}->forward($embs)};      \n",
    "        return [$outputs, $state]; #devolvemos las salidas y el estado\n",
    "}\n",
    "1;\n",
    "}"
   ]
  },
  {
   "cell_type": "markdown",
   "id": "2408b9f0",
   "metadata": {},
   "source": [
    "Let's use a concrete example\n",
    "to illustrate the above encoder implementation.\n",
    "Below, we instantiate a two-layer GRU encoder\n",
    "whose number of hidden units is 16.\n",
    "Given a minibatch of sequence inputs `X`\n",
    "(batch size $=4$; number of time steps $=9$),\n",
    "the hidden states of the final layer\n",
    "at all the time steps\n",
    "(`enc_outputs` returned by the encoder's recurrent layers)\n",
    "are a tensor of shape\n",
    "(number of time steps, batch size, number of hidden units)."
   ]
  },
  {
   "cell_type": "code",
   "execution_count": 3,
   "id": "27697d86",
   "metadata": {},
   "outputs": [
    {
     "name": "stdout",
     "output_type": "stream",
     "text": [
      "Seq2SeqEncoder(\n",
      "\n",
      ")\n",
      "Embedding(10 -> 8, float32)\n",
      "GRU(16, TNC, num_layers=2)\n",
      "<AI::MXNet::NDArray 9x4x16 @cpu(0)><AI::MXNet::NDArray 2x4x16 @cpu(0)>\n",
      "embedding:\n",
      "\t0\tembedding0_weight\t<AI::MXNet::NDArray 10x8 @cpu(0)>\n",
      "rnn:\n",
      "\t0\tgru0_l0_i2h_weight\t<AI::MXNet::NDArray 48x8 @cpu(0)>\n",
      "\t1\tgru0_l0_h2h_weight\t<AI::MXNet::NDArray 48x16 @cpu(0)>\n",
      "\t2\tgru0_l0_i2h_bias\t<AI::MXNet::NDArray 48 @cpu(0)>\n",
      "\t3\tgru0_l0_h2h_bias\t<AI::MXNet::NDArray 48 @cpu(0)>\n",
      "\t4\tgru0_l1_i2h_weight\t<AI::MXNet::NDArray 48x16 @cpu(0)>\n",
      "\t5\tgru0_l1_h2h_weight\t<AI::MXNet::NDArray 48x16 @cpu(0)>\n",
      "\t6\tgru0_l1_i2h_bias\t<AI::MXNet::NDArray 48 @cpu(0)>\n",
      "\t7\tgru0_l1_h2h_bias\t<AI::MXNet::NDArray 48 @cpu(0)>\n"
     ]
    }
   ],
   "source": [
    "#Parametros\n",
    "my ($vocab_size,$embed_size,$num_hiddens,$num_layers)= (10,8,16,2);\n",
    "my ($batch_size,$num_steps)=(4,9);\n",
    "\n",
    "#Creamos el Seq2SeqEncoder\n",
    "my $encoder=new Seq2SeqEncoder($vocab_size,$embed_size,$num_hiddens,$num_layers);\n",
    "print $encoder,\"\\n\";\n",
    "print $encoder->{embedding}, \"\\n\";\n",
    "print $encoder->{rnn}{rnn},\"\\n\";\n",
    "\n",
    "#Creamos el tensro de entrada X\n",
    "my $X=mx->nd->zeros([$batch_size,$num_steps]);\n",
    "\n",
    "#Pasamos a traves del encoder\n",
    "my ($enc_outputs,$enc_state) = @{$encoder->forward($X)};\n",
    "print $enc_outputs,$enc_state, \"\\n\";\n",
    "\n",
    "#Verificamos la forma del enc_outputs\n",
    "d2l->check_shape($enc_outputs,[$num_steps, $batch_size, $num_hiddens]);\n",
    "d2l->list_params($encoder);"
   ]
  },
  {
   "cell_type": "markdown",
   "id": "2c695306",
   "metadata": {},
   "source": [
    "Since we are using a GRU here, the shape of the multilayer hidden states at the final time step is (number of hidden layers, batch size, number of hidden units)."
   ]
  },
  {
   "cell_type": "code",
   "execution_count": 4,
   "id": "429adc7f",
   "metadata": {},
   "outputs": [
    {
     "data": {
      "text/plain": [
       "1"
      ]
     },
     "execution_count": 4,
     "metadata": {},
     "output_type": "execute_result"
    }
   ],
   "source": [
    "d2l->check_shape($enc_state, [$num_layers, $batch_size, $num_hiddens]);"
   ]
  },
  {
   "cell_type": "markdown",
   "id": "106283ce",
   "metadata": {},
   "source": [
    "# 10.7.3. Decoder\n",
    "Given a target output sequence $y_1, y_2, \\ldots, y_{T'}$\n",
    "for each time step $t'$\n",
    "(we use $t^\\prime$ to differentiate from the input sequence time steps),\n",
    "the decoder assigns a predicted probability\n",
    "to each possible token occurring at step $y_{t'+1}$\n",
    "conditioned upon the previous tokens in the target\n",
    "$y_1, \\ldots, y_{t'}$ \n",
    "and the context variable \n",
    "$\\mathbf{c}$, i.e., $P(y_{t'+1} \\mid y_1, \\ldots, y_{t'}, \\mathbf{c})$.\n",
    "\n",
    "To predict the subsequent token $t^\\prime+1$ in the target sequence,\n",
    "the RNN decoder takes the previous step's target token $y_{t^\\prime}$,\n",
    "the hidden RNN state from the previous time step $\\mathbf{s}_{t^\\prime-1}$,\n",
    "and the context variable $\\mathbf{c}$ as its input,\n",
    "and transforms them into the hidden state \n",
    "$\\mathbf{s}_{t^\\prime}$ at the current time step.\n",
    "We can use a function $g$ to express \n",
    "the transformation of the decoder's hidden layer:\n",
    "\n",
    "$$\\mathbf{s}_{t^\\prime} = g(y_{t^\\prime-1}, \\mathbf{c}, \\mathbf{s}_{t^\\prime-1}).$$\n",
    "(10.7.3)\n",
    "\n",
    "After obtaining the hidden state of the decoder,\n",
    "we can use an output layer and the softmax operation \n",
    "to compute the predictive distribution\n",
    "$p(y_{t^{\\prime}+1} \\mid y_1, \\ldots, y_{t^\\prime}, \\mathbf{c})$ \n",
    "over the subsequent output token ${t^\\prime+1}$.\n",
    "\n",
    "Following Fig. 10.7.1,\n",
    "when implementing the decoder as follows,\n",
    "we directly use the hidden state at the final time step\n",
    "of the encoder\n",
    "to initialize the hidden state of the decoder.\n",
    "This requires that the RNN encoder and the RNN decoder \n",
    "have the same number of layers and hidden units.\n",
    "To further incorporate the encoded input sequence information,\n",
    "the context variable is concatenated\n",
    "with the decoder input at all the time steps.\n",
    "To predict the probability distribution of the output token,\n",
    "we use a fully connected layer\n",
    "to transform the hidden state \n",
    "at the final layer of the RNN decoder."
   ]
  },
  {
   "cell_type": "code",
   "execution_count": 5,
   "id": "68fa508c",
   "metadata": {},
   "outputs": [
    {
     "data": {
      "text/plain": [
       "1"
      ]
     },
     "execution_count": 5,
     "metadata": {},
     "output_type": "execute_result"
    }
   ],
   "source": [
    "package Seq2SeqDecoder{\n",
    "  use base (\"d2l::Decoder\");\n",
    "sub new {\n",
    "     #Inicializamos el constructor con los argumentos\n",
    "     my ($class,%args) = (shift,d2l->get_arguments(vocab_size=>undef,\n",
    "                                                     embed_size=>undef,\n",
    "                                                     num_hiddens=> undef,\n",
    "                                                     num_layers=>undef,\n",
    "                                                     dropout=>0,\\@_));\n",
    "                                                     \n",
    "     my  $self = $class->SUPER::new(); #Creamos una nueva instancia para clase base\n",
    "     $self->{embedding} = mx->gluon->nn->Embedding($args{vocab_size},$args{embed_size}); #capas de codificador\n",
    "     $self->{rnn} = new d2l::GRU($args{num_hiddens}, $args{num_layers}, $args{dropout});\n",
    "     $self->{dense}= mx->gluon->nn->Dense($args{vocab_size}, flatten=>0);\n",
    "     map {$self->register_child($self->{$_})} ('embedding', 'rnn', 'dense'); #registramos capas como subcomponentes\n",
    "     $self->initialize(mx->init->Xavier());\n",
    "     return bless ($self, $class);  \n",
    "}\n",
    "\n",
    "sub init_state{ #iniciamos estado del decodificador\n",
    "     my ($self, $enc_all_outputs, %args) = (splice(@_, 0, 2),d2l->get_arguments(\\@_));                                     \n",
    "     return $enc_all_outputs;\n",
    "}\n",
    "\n",
    "sub forward {\n",
    "     my ($self, $X, $state) = @_;\n",
    "     my $embs = $self->{embedding}->forward(mx->nd->transpose($X)); \n",
    "     my ($enc_output, $hidden_state) = @{$state}; #desempaquetamos el estado\n",
    "     my $context = $enc_output->[-1];\n",
    "     $context = mx->nd->tile($context, [$embs->shape->[0], 1, 1]);    \n",
    "     my $embs_and_context = mx->nd->concat(($embs, $context), dim=>-1); #concatenamos\n",
    "     (my $outputs, $hidden_state) = @{$self->{rnn}->forward($embs_and_context, $hidden_state)}; #aplicamos capa densa y dimensionamos\n",
    "     $outputs = $self->{dense}->forward($outputs)->swapaxes(0, 1);    \n",
    "     return [$outputs, [$enc_output, $hidden_state]];\n",
    "}\n",
    "1;\n",
    "} "
   ]
  },
  {
   "cell_type": "markdown",
   "id": "94e4c7f0",
   "metadata": {},
   "source": [
    "To illustrate the implemented decoder, below we instantiate it with the same hyperparameters from the aforementioned encoder. As we can see, the output shape of the decoder becomes (batch size, number of time steps, vocabulary size), where the final dimension of the tensor stores the predicted token distribution."
   ]
  },
  {
   "cell_type": "code",
   "execution_count": 6,
   "id": "604b8691",
   "metadata": {},
   "outputs": [
    {
     "name": "stdout",
     "output_type": "stream",
     "text": [
      "Seq2SeqDecoder(\n",
      "\n",
      ")\n",
      "Embedding(10 -> 8, float32)\n",
      "GRU(16, TNC, num_layers=2)\n",
      "Dense(10 -> 0, linear)\n",
      "ARRAY(0xd50f910)\n",
      "2\n",
      "state->[0]: <AI::MXNet::NDArray 9x4x16 @cpu(0)>\n",
      "state->[1]: <AI::MXNet::NDArray 2x4x16 @cpu(0)>\n",
      "state->[1]: <AI::MXNet::NDArray 2x4x16 @cpu(0)>\n",
      "dense:\n",
      "\t0\tdense0_weight\t<AI::MXNet::NDArray 10x16 @cpu(0)>\n",
      "\t1\tdense0_bias\t<AI::MXNet::NDArray 10 @cpu(0)>\n",
      "rnn:\n",
      "\t0\tgru1_l0_i2h_weight\t<AI::MXNet::NDArray 48x24 @cpu(0)>\n",
      "\t1\tgru1_l0_h2h_weight\t<AI::MXNet::NDArray 48x16 @cpu(0)>\n",
      "\t2\tgru1_l0_i2h_bias\t<AI::MXNet::NDArray 48 @cpu(0)>\n",
      "\t3\tgru1_l0_h2h_bias\t<AI::MXNet::NDArray 48 @cpu(0)>\n",
      "\t4\tgru1_l1_i2h_weight\t<AI::MXNet::NDArray 48x16 @cpu(0)>\n",
      "\t5\tgru1_l1_h2h_weight\t<AI::MXNet::NDArray 48x16 @cpu(0)>\n",
      "\t6\tgru1_l1_i2h_bias\t<AI::MXNet::NDArray 48 @cpu(0)>\n",
      "\t7\tgru1_l1_h2h_bias\t<AI::MXNet::NDArray 48 @cpu(0)>\n",
      "embedding:\n",
      "\t0\tembedding1_weight\t<AI::MXNet::NDArray 10x8 @cpu(0)>\n"
     ]
    }
   ],
   "source": [
    "# Instanciamos Seq2SeqDecoder\n",
    "my $decoder = new Seq2SeqDecoder($vocab_size, $embed_size, $num_hiddens, $num_layers);\n",
    "print $decoder, \"\\n\";\n",
    "print $decoder->{embedding}, \"\\n\";\n",
    "print $decoder->{rnn}{rnn}, \"\\n\";\n",
    "print $decoder->{dense}, \"\\n\";\n",
    "\n",
    "# Obtenemos el estado inicial del decoder\n",
    "my $state = $decoder->init_state($encoder->forward($X));\n",
    "print $state, \"\\n\";\n",
    "print scalar @$state, \"\\n\";\n",
    "print \"state->[0]: \", $state->[0], \"\\n\";\n",
    "print \"state->[1]: \", $state->[1], \"\\n\";\n",
    "(my $dec_outputs, $state) = @{$decoder->forward($X, $state)};\n",
    "print \"state->[1]: \", $state->[1], \"\\n\";\n",
    "\n",
    "# Shapes\n",
    "d2l->check_shape($dec_outputs, [$batch_size, $num_steps, $vocab_size]);\n",
    "d2l->check_shape($state->[1], [$num_layers, $batch_size, $num_hiddens]);\n",
    "d2l->list_params($decoder);"
   ]
  },
  {
   "cell_type": "markdown",
   "id": "8f45d437",
   "metadata": {},
   "source": [
    "# 10.7.4. Encoder–Decoder for Sequence-to-Sequence Learning\n",
    "Putting it all together in code yields the following:"
   ]
  },
  {
   "cell_type": "code",
   "execution_count": 7,
   "id": "46250e9e",
   "metadata": {},
   "outputs": [
    {
     "data": {
      "text/plain": [
       "1"
      ]
     },
     "execution_count": 7,
     "metadata": {},
     "output_type": "execute_result"
    }
   ],
   "source": [
    "package Seq2Seq{\n",
    "use base (\"d2l::EncoderDecoder\");\n",
    "sub new {\n",
    "    my ($class,%args) = (shift, d2l->get_arguments(encoder=>undef,decoder=>undef,tgt_pad=>undef,lr=>undef,\\@_));\n",
    "    my  $self= $class->SUPER::new($args{encoder},$args{decoder}); \n",
    "    $self->save_hyperparameters(%args); #guardamos hiperparametros\n",
    "    return bless ($self,$class);\n",
    "}\n",
    "#Realizamos la propagacion hacia adelante con calculo y registramos la perdida de validacion\n",
    "sub validation_step{\n",
    "    my ($self,$batch) = @_;     \n",
    "    my $Y_hat = $self->forward(@{$batch}[0 .. $#{$batch} - 1]);\n",
    "    $self->plot('loss',$self->loss($Y_hat, $batch->[-1]), train => 0);\n",
    "}\n",
    "#Configuramos el optimizador Adam con el learning rate proporcionado\n",
    "sub configure_optimizers{\n",
    "      my $self = shift;     \n",
    "      return mx->gluon->Trainer($self->parameters(),optimizer =>'adam',optimizer_params => {'learning_rate' => $self->{lr}});  \n",
    "}\n",
    "1;\n",
    "}"
   ]
  },
  {
   "cell_type": "markdown",
   "id": "52bb7e29",
   "metadata": {},
   "source": [
    "# 10.7.5. Loss Function with Masking\n",
    "At each time step, the decoder predicts a probability distribution for the output tokens. As with language modeling, we can apply softmax to obtain the distribution and calculate the cross-entropy loss for optimization. Recall from Section 10.5 that the special padding tokens are appended to the end of sequences and so sequences of varying lengths can be efficiently loaded in minibatches of the same shape. However, prediction of padding tokens should be excluded from loss calculations. To this end, we can mask irrelevant entries with zero values so that multiplication of any irrelevant prediction with zero equates to zero."
   ]
  },
  {
   "cell_type": "code",
   "execution_count": 8,
   "id": "e14fba3c",
   "metadata": {},
   "outputs": [
    {
     "data": {
      "text/plain": [
       "*Seq2Seq::loss"
      ]
     },
     "execution_count": 8,
     "metadata": {},
     "output_type": "execute_result"
    }
   ],
   "source": [
    "my $loss = sub{\n",
    "   my ($self, %args) = (shift, d2l->get_arguments(Y_hat=>undef, Y=>undef, \\@_)); #Calculamos la pérdida sin promediar\n",
    "   my $l = $self->d2l::Classifier::loss($args{Y_hat}, $args{Y}, averaged=> 0); #Creamos una máscara para ignorar las pérdidas\n",
    "   my $mask = ($args{Y}->reshape([-1])!= $self->{tgt_pad})->astype('float32'); #Aplicamos la máscara a la pérdida y la normalizamos\n",
    "   return mx->nd->sum($l * $mask) / mx->nd->sum($mask);\n",
    "};\n",
    "\n",
    "d2l->add_to_class('Seq2Seq', 'loss', $loss); #Añadimos la función de pérdida personalizada a la clase Seq2Seq"
   ]
  },
  {
   "cell_type": "markdown",
   "id": "24982d1d",
   "metadata": {},
   "source": [
    "# 10.7.6 Training\n"
   ]
  },
  {
   "cell_type": "code",
   "execution_count": 9,
   "id": "2e9e4e06",
   "metadata": {},
   "outputs": [
    {
     "name": "stdout",
     "output_type": "stream",
     "text": [
      "Training time: 01:59\n"
     ]
    },
    {
     "name": "stderr",
     "output_type": "stream",
     "text": [
      "No GPU support.\n"
     ]
    },
    {
     "data": {
      "text/html": [
       "<script>\n",
       "//# sourceURL=iperl-devel-plugin-chart-plotly.js\n",
       "            $('#Plotly').each(function(i, e) { $(e).attr('id', 'plotly') });\n",
       "\n",
       "            if (!window.Plotly) {\n",
       "                requirejs.config({\n",
       "                  paths: {\n",
       "                    plotly: ['https://cdn.plot.ly/plotly-latest.min']},\n",
       "                });\n",
       "                window.Plotly = {\n",
       "react : function (div, data, layout, config){\n",
       "                    require(['plotly'], function(plotly) {\n",
       "                      window.Plotly=plotly;\n",
       "Plotly.react(div, data, layout, config);                    });\n",
       "                  }\n",
       "                }\n",
       "            }\n",
       "</script>\n",
       "<div id=\"0045ff21-b106-11ee-be06-a9226bb3852d\"></div>\n",
       "\n",
       "<script>\n",
       "Plotly.react(document.getElementById('0045ff21-b106-11ee-be06-a9226bb3852d'),[{\"line\":{\"color\":\"blue\",\"dash\":\"solid\"},\"x\":[0.125,0.625,1.125,1.625,2.125,2.625,3.125,3.625,4.125,4.625,5.125,5.625,6.125,6.625,7.125,7.625,8.125,8.625,9.125,9.625,10.125,10.625,11.125,11.625,12.125,12.625,13.125,13.625,14.125,14.625,15.125,15.625,16.125,16.625,17.125,17.625,18.125,18.625,19.125,19.625,20.125,20.625,21.125,21.625,22.125,22.625,23.125,23.625,24.125,24.625,25.125,25.625,26.125,26.625,27.125,27.625,28.125,28.625,29.125,29.625],\"type\":\"scatter\",\"name\":\"train_loss\",\"y\":[4.59828722476959,5.87376832962036,4.11496424674988,3.72847473621368,3.29878664016724,3.07962071895599,2.86929392814636,2.68109679222107,2.54407393932343,2.35982525348663,2.16816020011902,2.12168645858765,1.84548193216324,1.77742105722427,1.55236053466797,1.53623831272125,1.38528579473495,1.30362206697464,1.19311434030533,1.13459819555283,1.0178188085556,0.960505813360214,0.831437259912491,0.878973752260208,0.743147909641266,0.72482767701149,0.61519530415535,0.619361519813538,0.534588515758514,0.560937464237213,0.415535971522331,0.535656809806824,0.413689017295837,0.417441129684448,0.386180698871613,0.363914638757706,0.307931676506996,0.352436140179634,0.28766967356205,0.34963695704937,0.275667205452919,0.320476531982422,0.242623470723629,0.314523428678513,0.233253322541714,0.313948765397072,0.232295475900173,0.301395043730736,0.234496377408504,0.26823066920042,0.213047966361046,0.313873916864395,0.230205900967121,0.259525537490845,0.233131214976311,0.235088840126991,0.237888485193253,0.235607601702213,0.197120249271393,0.256418831646442]},{\"y\":[5.1361837387085,4.1305820941925,3.49084806442261,3.22053265571594,3.16309034824371,3.13506805896759,2.96940517425537,3.08905112743378,3.03423631191254,2.93786537647247,2.98483383655548,3.29660797119141,3.0981605052948,3.0564341545105,3.13987123966217,2.91927170753479,3.17288935184479,3.15518486499786,3.42918002605438,3.27032494544983,3.4806764125824,3.35262393951416,3.33028483390808,3.65555667877197,3.7023069858551,3.57592904567719,3.71064579486847,3.6766312122345,3.65032041072845,3.26483500003815],\"name\":\"val_loss\",\"type\":\"scatter\",\"x\":[0.75,1.75,2.75,3.75,4.75,5.75,6.75,7.75,8.75,9.75,10.75,11.75,12.75,13.75,14.75,15.75,16.75,17.75,18.75,19.75,20.75,21.75,22.75,23.75,24.75,25.75,26.75,27.75,28.75,29.75],\"line\":{\"dash\":\"dot\",\"color\":\"orange\"}}] ,{\"yaxis\":{\"type\":\"linear\"},\"xaxis\":{\"range\":[0,30],\"title\":\"epoch\",\"type\":\"linear\"},\"height\":2.5,\"width\":3.5,\"title\":{\"text\":\"\"}} );\n",
       "</script>\n"
      ]
     },
     "metadata": {},
     "output_type": "display_data"
    }
   ],
   "source": [
    "my $data = new d2l::MTFraEng(batch_size=> 128);\n",
    "($embed_size, $num_hiddens, $num_layers, my $dropout) = (256, 256, 2, 0.2);\n",
    "$encoder = new Seq2SeqEncoder(\n",
    "    $data->{src_vocab}->len(), $embed_size,$num_hiddens,$num_layers,$dropout);\n",
    "$decoder = new Seq2SeqDecoder(\n",
    "    $data->{tgt_vocab}->len(), $embed_size, $num_hiddens,$num_layers,$dropout);\n",
    "    \n",
    "my $model = new Seq2Seq($encoder,$decoder, tgt_pad=>$data->{tgt_vocab}->getitem('<pad>'), lr => 0.005);\n",
    "my $trainer = new d2l::Trainer(max_epochs=>30, gradient_clip_val=>1, num_gpus=>1);\n",
    "\n",
    "$trainer->fit($model, $data);"
   ]
  },
  {
   "cell_type": "markdown",
   "id": "3e49a021",
   "metadata": {},
   "source": [
    "# 10.7.7. Prediction\n",
    "To predict the output sequence at each step, the predicted token from the previous time step is fed into the decoder as an input. One simple strategy is to sample whichever token that has been assigned by the decoder the highest probability when predicting at each step. As in training, at the initial time step the beginning-of-sequence (“<bos>”) token is fed into the decoder. This prediction process is illustrated in Fig. 10.7.3. When the end-of-sequence (“&lt;eos&gt;”) token is predicted, the prediction of the output sequence is complete.\n",
    "![ Fig. 10.7.3 Predicting the output sequence token by token using an RNN encoder--decoder.](../img/seq2seq-predict.svg)\n",
    "\n",
    "In the next section, we will introduce \n",
    "more sophisticated strategies \n",
    "based on beam search (Section 10.8)."
   ]
  },
  {
   "cell_type": "code",
   "execution_count": 10,
   "id": "0518a879",
   "metadata": {},
   "outputs": [
    {
     "data": {
      "text/plain": [
       "*d2l::EncoderDecoder::predict_step"
      ]
     },
     "execution_count": 10,
     "metadata": {},
     "output_type": "execute_result"
    },
    {
     "ename": "Warning",
     "evalue": "Subroutine d2l::EncoderDecoder::predict_step redefined at /usr/local/lib/perl5/site_perl/5.32.1/x86_64-linux/d2l.pm line 4518.\n",
     "output_type": "error",
     "traceback": [
      "Subroutine d2l::EncoderDecoder::predict_step redefined at /usr/local/lib/perl5/site_perl/5.32.1/x86_64-linux/d2l.pm line 4518.\n"
     ]
    }
   ],
   "source": [
    "# Definición de la subrutina predict_step\n",
    "my $predict_step = sub {\n",
    "    # Recuperando el objeto y los argumentos\n",
    "    my ($self, %args) = (shift, d2l->get_arguments(batch => undef, \n",
    "                                                   device => undef, \n",
    "                                                   num_steps => undef, \n",
    "                                                   save_attention_weights => 0, \\@_));\n",
    "    \n",
    "    # Preparando el lote (batch) para ser procesado en el dispositivo especificado\n",
    "    $args{batch} = [map { $_->as_in_context($args{device}) } @{$args{batch}}]; \n",
    "    \n",
    "    # Desempaquetando el lote en variables individuales\n",
    "    my ($src, $tgt, $src_valid_len, undef) = @{$args{batch}};\n",
    "    \n",
    "    # Procesamiento a través del codificador y establecimiento del estado inicial del decodificador\n",
    "    my $enc_all_outputs = $self->{encoder}->forward($src, $src_valid_len);\n",
    "    my $dec_state = $self->{decoder}->init_state($enc_all_outputs, $src_valid_len);\n",
    "    \n",
    "    # Inicialización de las salidas y, opcionalmente, los pesos de atención\n",
    "    my ($outputs, $attention_weights) = ([mx->nd->expand_dims($tgt->slice('X', 0)->squeeze(axis => 1), 1), ], []);\n",
    "\n",
    "    # Decodificación en bucle\n",
    "    for (0 .. $args{num_steps} - 1) {\n",
    "        (my $Y, $dec_state) = @{$self->{decoder}->forward($outputs->[-1], $dec_state)};\n",
    "        push @$outputs, $Y->argmax(2);\n",
    "        # Guardar los pesos de atención si es necesario\n",
    "        if ($args{save_attention_weights}) {\n",
    "            push @$attention_weights, $self->{decoder}->{attention_weights};\n",
    "        }\n",
    "    }\n",
    "\n",
    "    # Retornando los resultados\n",
    "    return mx->nd->concat(@$outputs[1 .. $#$outputs], dim => 1), $attention_weights;\n",
    "};\n",
    "\n",
    "# Añadiendo la subrutina predict_step a la clase d2l::EncoderDecoder\n",
    "d2l->add_to_class('d2l::EncoderDecoder', 'predict_step', $predict_step);\n"
   ]
  },
  {
   "cell_type": "markdown",
   "id": "5d43170e",
   "metadata": {},
   "source": [
    "# 10.7.8. Evaluation of Predicted Sequences\n",
    "We can evaluate a predicted sequence\n",
    "by comparing it with the\n",
    "target sequence (the ground truth).\n",
    "But what precisely is the appropriate measure \n",
    "for comparing similarity between two sequences?\n",
    "\n",
    "\n",
    "Bilingual Evaluation Understudy (BLEU),\n",
    "though originally proposed for evaluating\n",
    "machine translation results (Papineni et al. 2002),\n",
    "has been extensively used in measuring\n",
    "the quality of output sequences for different applications.\n",
    "In principle, for any $n$-gram (Section 9.3.1.1) in the predicted sequence,\n",
    "BLEU evaluates whether this $n$-gram appears\n",
    "in the target sequence.\n",
    "\n",
    "Denote by $p_n$ the precision of an $n$-gram,\n",
    "defined as the ratio \n",
    "of the number of matched $n$-grams in\n",
    "the predicted and target sequences\n",
    "to the number of $n$-grams in the predicted sequence.\n",
    "To explain, given a target sequence $A$, $B$, $C$, $D$, $E$, $F$,\n",
    "and a predicted sequence $A$, $B$, $B$, $C$, $D$,\n",
    "we have $p_1 = 4/5$,  $p_2 = 3/4$, $p_3 = 1/3$, and $p_4 = 0$.\n",
    "Now let $\\textrm{len}_{\\textrm{label}}$ and $\\textrm{len}_{\\textrm{pred}}$\n",
    "be the numbers of tokens in the target sequence \n",
    "and the predicted sequence, respectively.\n",
    "Then, BLEU is defined as\n",
    "\n",
    "$$ \\exp\\left(\\min\\left(0, 1 - \\frac{\\textrm{len}_{\\textrm{label}}}{\\textrm{len}_{\\textrm{pred}}}\\right)\\right) \\prod_{n=1}^k p_n^{1/2^n},$$\n",
    "(10.7.4)\n",
    "\n",
    "where $k$ is the longest $n$-gram for matching.\n",
    "\n",
    "Based on the definition of BLEU in (10.7.4),\n",
    "whenever the predicted sequence is the same as the target sequence, BLEU is 1.\n",
    "Moreover,\n",
    "since matching longer $n$-grams is more difficult,\n",
    "BLEU assigns a greater weight\n",
    "when a longer $n$-gram has high precision.\n",
    "Specifically, when $p_n$ is fixed,\n",
    "$p_n^{1/2^n}$ increases as $n$ grows (the original paper uses $p_n^{1/n}$).\n",
    "Furthermore,\n",
    "since\n",
    "predicting shorter sequences\n",
    "tends to yield a higher $p_n$ value,\n",
    "the coefficient before the multiplication term in (10.7.4)\n",
    "penalizes shorter predicted sequences.\n",
    "For example, when $k=2$,\n",
    "given the target sequence $A$, $B$, $C$, $D$, $E$, $F$ and the predicted sequence $A$, $B$,\n",
    "although $p_1 = p_2 = 1$, the penalty factor $\\exp(1-6/2) \\approx 0.14$ lowers the BLEU.\n",
    "\n",
    "We implement the BLEU measure as follows."
   ]
  },
  {
   "cell_type": "code",
   "execution_count": 11,
   "id": "2ae8500c",
   "metadata": {},
   "outputs": [],
   "source": [
    "# Subrutina para calcular la métrica BLEU\n",
    "sub bleu {\n",
    "    # Recibe la secuencia predicha, la secuencia de etiquetas (referencia) y el tamaño máximo de n-grama\n",
    "    my ($pred_seq, $label_seq, $k) = @_;\n",
    "\n",
    "    # Divide las secuencias en tokens (palabras) usando espacios\n",
    "    my @pred_tokens = split(' ', $pred_seq);\n",
    "    my @label_tokens = split(' ', $label_seq);\n",
    "\n",
    "    # Calcula la longitud de las secuencias de tokens\n",
    "    my ($len_pred, $len_label) = (scalar(@pred_tokens), scalar(@label_tokens));\n",
    "\n",
    "    # Penalización por brevedad de la secuencia predicha\n",
    "    my $score = exp(min(0, 1 - $len_label / $len_pred));\n",
    "    my ($num_matches, %label_subs);\n",
    "\n",
    "    # Bucle para calcular las coincidencias de n-gramas para diferentes tamaños de n\n",
    "    for (my $n = 1; $n < min($k, $len_pred) + 1; $n++) {\n",
    "        $num_matches = 0;\n",
    "        %label_subs = ();\n",
    "\n",
    "        # Crear n-gramas de la secuencia de etiquetas y contar su frecuencia\n",
    "        for my $i (0 .. $len_label - $n) {\n",
    "            $label_subs{join(' ', @label_tokens[$i .. $i + $n - 1])} += 1;\n",
    "        }\n",
    "\n",
    "        # Comparar n-gramas de la secuencia predicha con los de la secuencia de etiquetas\n",
    "        for my $i (0 .. $len_pred - $n) {\n",
    "            my $key = join(' ', @pred_tokens[$i .. $i + $n - 1]);\n",
    "\n",
    "            if (exists $label_subs{$key} && $label_subs{$key} > 0) {\n",
    "                $num_matches += 1;\n",
    "                $label_subs{$key} -= 1;\n",
    "            }\n",
    "        }\n",
    "\n",
    "        # Actualizar el score de BLEU\n",
    "        $score *= ($num_matches / ($len_pred - $n + 1)) ** (0.5 ** $n);\n",
    "    }\n",
    "\n",
    "    # Retorna el score de BLEU\n",
    "    return $score;\n",
    "}"
   ]
  },
  {
   "cell_type": "markdown",
   "id": "08067745",
   "metadata": {},
   "source": [
    "In the end, we use the trained RNN encoder–decoder to translate a few English sentences into French and compute the BLEU of the results."
   ]
  },
  {
   "cell_type": "code",
   "execution_count": 12,
   "id": "97d9f728",
   "metadata": {},
   "outputs": [
    {
     "name": "stdout",
     "output_type": "stream",
     "text": [
      "go . => [\"va\", \"!\"], bleu 1.000.\n",
      "i lost . => [\"j'ai\", \"perdu\", \".\"], bleu 1.000.\n",
      "he's calm . => [\"soyez\", \"calme\", \".\"], bleu 0.492.\n",
      "i'm home . => [\"je\", \"suis\", \"chez\", \"moi\", \".\"], bleu 1.000.\n"
     ]
    }
   ],
   "source": [
    "# Arreglos de oraciones en inglés y francés para la traducción\n",
    "my $engs = ['go .', 'i lost .', 'he\\'s calm .', 'i\\'m home .'];\n",
    "my $fras = ['va !', 'j\\'ai perdu .', 'il est calme .', 'je suis chez moi .'];\n",
    "\n",
    "# Predicción de traducciones usando el modelo\n",
    "# $data->build prepara los datos, d2l->try_gpu() selecciona el dispositivo de procesamiento y $data->{num_steps} define el número de pasos\n",
    "my ($preds, undef) = $model->predict_step($data->build($engs, $fras), d2l->try_gpu(), $data->{num_steps});\n",
    "\n",
    "# Iterar sobre las oraciones en inglés, francés y las predicciones\n",
    "for my $item (zip $engs, $fras, $preds->asarray) {\n",
    "    # Desempaquetar cada elemento del zip en variables individuales\n",
    "    my ($en, $fr, $p, $translation) = (@$item, []);\n",
    "\n",
    "    # Convertir los índices de tokens predichos en palabras, deteniéndose en '<eos>' (end of sentence)\n",
    "    for my $token (@{$data->{tgt_vocab}->to_tokens($p)}) {\n",
    "        last if $token eq '<eos>';\n",
    "        push @$translation, $token;\n",
    "    }\n",
    "\n",
    "    # Imprimir la oración en inglés, la traducción y la puntuación BLEU\n",
    "    printf \"$en => %s, bleu %.3f.\\n\", dump($translation), bleu(join(' ', @$translation), $fr, 2);\n",
    "}\n"
   ]
  },
  {
   "cell_type": "markdown",
   "id": "c6b452d4",
   "metadata": {},
   "source": [
    "# 10.7.9. Summary\n",
    "\n",
    "Following the design of the encoder–decoder architecture, we can use two RNNs to design a model for sequence-to-sequence learning. In encoder–decoder training, the teacher forcing approach feeds original output sequences (in contrast to predictions) into the decoder. When implementing the encoder and the decoder, we can use multilayer RNNs. We can use masks to filter out irrelevant computations, such as when calculating the loss. For evaluating output sequences, BLEU is a popular measure that matches \n",
    "-grams between the predicted sequence and the target sequence.\n",
    "\n",
    "# 10.7.10. Exercises\n",
    "1. Can you adjust the hyperparameters to improve the translation results?\n",
    "1. Rerun the experiment without using masks in the loss calculation. What results do you observe? Why?\n",
    "1. If the encoder and the decoder differ in the number of layers or the number of hidden units, how can we initialize the hidden state of the decoder?\n",
    "1. In training, replace teacher forcing with feeding the prediction at the previous time step into the decoder. How does this influence the performance?\n",
    "1. Rerun the experiment by replacing GRU with LSTM.\n",
    "1. Are there any other ways to design the output layer of the decoder?\n",
    "\n"
   ]
  },
  {
   "cell_type": "markdown",
   "id": "062087a3",
   "metadata": {},
   "source": []
  }
 ],
 "metadata": {
  "kernelspec": {
   "display_name": "IPerl 0.011",
   "language": "perl",
   "name": "iperl"
  },
  "language_info": {
   "file_extension": ".pl",
   "mimetype": "text/x-perl",
   "name": "perl",
   "version": "5.32.1"
  }
 },
 "nbformat": 4,
 "nbformat_minor": 5
}
