{
 "cells": [
  {
   "cell_type": "markdown",
   "id": "73ba866b",
   "metadata": {},
   "source": [
    "# 10.7. Sequence-to-Sequence Learning for Machine Translation"
   ]
  },
  {
   "cell_type": "markdown",
   "id": "51cf3684",
   "metadata": {},
   "source": [
    "#  Sequence-to-Sequence Learning for Machine Translation\n",
    "\n",
    "\n",
    "In so-called sequence-to-sequence problems such as machine translation\n",
    "(as discussed in Section 10.5),\n",
    "where inputs and outputs each consist \n",
    "of variable-length unaligned sequences,\n",
    "we generally rely on encoder--decoder architectures\n",
    "(Section 10.6).\n",
    "In this section,\n",
    "we will demonstrate the application \n",
    "of an encoder--decoder architecture,\n",
    "where both the encoder and decoder \n",
    "are implemented as RNNs,\n",
    "to the task of machine translation\n",
    "(Cho et al., 2014, Sutskever et al., 2014).\n",
    "\n",
    "Here, the encoder RNN will take a variable-length sequence as input \n",
    "and transform it into a fixed-shape hidden state.\n",
    "Later, in Section 11,\n",
    "we will introduce attention mechanisms, \n",
    "which allow us to access encoded inputs\n",
    "without having to compress the entire input\n",
    "into a single fixed-length representation.\n",
    "\n",
    "Then to generate the output sequence, \n",
    "one token at a time,\n",
    "the decoder model, \n",
    "consisting of a separate RNN,\n",
    "will predict each successive target token\n",
    "given both the input sequence\n",
    "and the preceding tokens in the output.\n",
    "During training, the decoder will typically\n",
    "be conditioned upon the preceding tokens\n",
    "in the official \"ground truth\" label. \n",
    "However, at test time, we will want to condition\n",
    "each output of the decoder on the tokens already predicted. \n",
    "Note that if we ignore the encoder,\n",
    "the decoder in a sequence-to-sequence architecture \n",
    "behaves just like a normal language model.\n",
    "Fig. 10.7.1 illustrates\n",
    "how to use two RNNs\n",
    "for sequence-to-sequence learning\n",
    "in machine translation.\n",
    "\n",
    "\n",
    "![Sequence-to-sequence learning with an RNN encoder and an RNN decoder.](http://d2l.ai/_images/seq2seq.svg)\n",
    "Fig. 10.7.1 Sequence-to-sequence learning with an RNN encoder and an RNN decoder.\n",
    "\n",
    "In Fig. 10.7.1,\n",
    "the special \"<eos>\" token\n",
    "marks the end of the sequence.\n",
    "Our model can stop making predictions\n",
    "once this token is generated.\n",
    "At the initial time step of the RNN decoder,\n",
    "there are two special design decisions to be aware of:\n",
    "First, we begin every input with a special \n",
    "beginning-of-sequence \"<bos>\" token.\n",
    "Second, we may feed\n",
    "the final hidden state of the encoder\n",
    "into the decoder\n",
    "at every single decoding time step (Cho et al., 2014).\n",
    "In some other designs,\n",
    "such as that of Sutskever et al. (2014),\n",
    "the final hidden state of the RNN encoder\n",
    "is used\n",
    "to initiate the hidden state of the decoder\n",
    "only at the first decoding step."
   ]
  },
  {
   "cell_type": "code",
   "execution_count": 10,
   "id": "b6ab8f03",
   "metadata": {},
   "outputs": [],
   "source": [
    "use strict;\n",
    "use warnings;\n",
    "use Data::Dump qw(dump);\n",
    "use d2l;\n",
    "IPerl->load_plugin('Chart::Plotly');"
   ]
  },
  {
   "cell_type": "markdown",
   "id": "748d55ac",
   "metadata": {},
   "source": [
    "# 10.7.1. Teacher Forcing"
   ]
  },
  {
   "cell_type": "markdown",
   "id": "7152c88f",
   "metadata": {},
   "source": [
    "While running the encoder on the input sequence is relatively straightforward, handling the input and output of the decoder requires more care. The most common approach is sometimes called teacher forcing. Here, the original target sequence (token labels) is fed into the decoder as input. More concretely, the special beginning-of-sequence token and the original target sequence, excluding the final token, are concatenated as input to the decoder, while the decoder output (labels for training) is the original target sequence, shifted by one token: “<bos>”, “Ils”, “regardent”, “.” ->\n",
    " “Ils”, “regardent”, “.”, “<eos>” (Fig. 10.7.1).\n",
    "\n",
    "Our implementation in Section 10.5.3 prepared training data for teacher forcing, where shifting tokens for self-supervised learning is similar to the training of language models in Section 9.3. An alternative approach is to feed the predicted token from the previous time step as the current input to the decoder.\n",
    "\n",
    "In the following, we explain the design depicted in Fig. 10.7.1 in greater detail. We will train this model for machine translation on the English–French dataset as introduced in Section 10.5."
   ]
  },
  {
   "cell_type": "markdown",
   "id": "d0e349c0",
   "metadata": {},
   "source": [
    "# 10.7.2. Encoder"
   ]
  },
  {
   "cell_type": "markdown",
   "id": "ddfbade3",
   "metadata": {},
   "source": [
    "## Encoder\n",
    "\n",
    "Recall that the encoder transforms an input sequence of variable length\n",
    "into a fixed-shape *context variable* $\\mathbf{c}$ (see Fig. 10.7.1).\n",
    "\n",
    "\n",
    "Consider a single sequence example (batch size 1).\n",
    "Suppose the input sequence is $x_1, \\ldots, x_T$, \n",
    "such that $x_t$ is the $t^{\\textrm{th}}$ token.\n",
    "At time step $t$, the RNN transforms\n",
    "the input feature vector $\\mathbf{x}_t$ for $x_t$\n",
    "and the hidden state $\\mathbf{h} _{t-1}$ \n",
    "from the previous time step \n",
    "into the current hidden state $\\mathbf{h}_t$.\n",
    "We can use a function $f$ to express \n",
    "the transformation of the RNN's recurrent layer:\n",
    "\n",
    "$$\\mathbf{h}_t = f(\\mathbf{x}_t, \\mathbf{h}_{t-1}). $$\n",
    "\n",
    "In general, the encoder transforms \n",
    "the hidden states at all time steps\n",
    "into a context variable through a customized function $q$:\n",
    "\n",
    "$$\\mathbf{c} =  q(\\mathbf{h}_1, \\ldots, \\mathbf{h}_T).$$\n",
    "\n",
    "For example, inFig. 10.7.1,\n",
    "the context variable is just the hidden state $\\mathbf{h}_T$\n",
    "corresponding to the encoder RNN's representation\n",
    "after processing the final token of the input sequence.\n",
    "\n",
    "In this example, we have used a unidirectional RNN\n",
    "to design the encoder,\n",
    "where the hidden state only depends on the input subsequence \n",
    "at and before the time step of the hidden state.\n",
    "We can also construct encoders using bidirectional RNNs.\n",
    "In this case, a hidden state depends on the subsequence before and after the time step \n",
    "(including the input at the current time step), \n",
    "which encodes the information of the entire sequence.\n",
    "\n",
    "\n",
    "Now let's [**implement the RNN encoder**].\n",
    "Note that we use an *embedding layer*\n",
    "to obtain the feature vector for each token in the input sequence.\n",
    "The weight of an embedding layer is a matrix,\n",
    "where the number of rows corresponds to \n",
    "the size of the input vocabulary (`vocab_size`)\n",
    "and number of columns corresponds to \n",
    "the feature vector's dimension (`embed_size`).\n",
    "For any input token index $i$,\n",
    "the embedding layer fetches the $i^{\\textrm{th}}$ row \n",
    "(starting from 0) of the weight matrix\n",
    "to return its feature vector.\n",
    "Here we implement the encoder with a multilayer GRU."
   ]
  },
  {
   "cell_type": "code",
   "execution_count": null,
   "id": "668075d7",
   "metadata": {},
   "outputs": [],
   "source": [
    "def init_seq2seq(module):  #@save\n",
    "    \"\"\"Initialize weights for sequence-to-sequence learning.\"\"\"\n",
    "    if type(module) == nn.Linear:\n",
    "         nn.init.xavier_uniform_(module.weight)\n",
    "    if type(module) == nn.GRU:\n",
    "        for param in module._flat_weights_names:\n",
    "            if \"weight\" in param:\n",
    "                nn.init.xavier_uniform_(module._parameters[param])\n",
    "\n",
    "class Seq2SeqEncoder(d2l.Encoder):  #@save\n",
    "    \"\"\"The RNN encoder for sequence-to-sequence learning.\"\"\"\n",
    "    def __init__(self, vocab_size, embed_size, num_hiddens, num_layers,\n",
    "                 dropout=0):\n",
    "        super().__init__()\n",
    "        self.embedding = nn.Embedding(vocab_size, embed_size)\n",
    "        self.rnn = d2l.GRU(embed_size, num_hiddens, num_layers, dropout)\n",
    "        self.apply(init_seq2seq)\n",
    "\n",
    "    def forward(self, X, *args):\n",
    "        # X shape: (batch_size, num_steps)\n",
    "        embs = self.embedding(X.t().type(torch.int64))\n",
    "        # embs shape: (num_steps, batch_size, embed_size)\n",
    "        outputs, state = self.rnn(embs)\n",
    "        # outputs shape: (num_steps, batch_size, num_hiddens)\n",
    "        # state shape: (num_layers, batch_size, num_hiddens)\n",
    "        return outputs, state"
   ]
  },
  {
   "cell_type": "code",
   "execution_count": 54,
   "id": "454499ed",
   "metadata": {},
   "outputs": [
    {
     "data": {
      "text/plain": [
       "1"
      ]
     },
     "execution_count": 54,
     "metadata": {},
     "output_type": "execute_result"
    },
    {
     "ename": "Warning",
     "evalue": "Subroutine new redefined at reply input line 3.\n\nSubroutine forward redefined at reply input line 18.\n",
     "output_type": "error",
     "traceback": [
      "Subroutine new redefined at reply input line 3.\n\nSubroutine forward redefined at reply input line 18.\n"
     ]
    }
   ],
   "source": [
    "package Seq2SeqEncoder{\n",
    "use base (\"d2l::Encoder\");\n",
    "sub new {\n",
    "    my ($class, %args) = (shift, d2l->get_arguments(vocab_size=> undef,\n",
    "                                                    embed_size=> undef ,\n",
    "                                                    num_hiddens=> undef,\n",
    "                                                    num_layers=> undef,\n",
    "                                                    dropout => 0, \\@_));\n",
    "    my  $self = $class->SUPER::new(); \n",
    "    $self->{embedding} = mx->gluon->nn->Embedding($args{vocab_size}, $args{embed_size}); \n",
    "    $self->{rnn} =  new d2l::GRU($args{num_hiddens}, $args{num_layers}, $args{dropout});\n",
    "    map {$self->register_child($self->{$_})} ('embedding','rnn');\n",
    "    \n",
    "    $self->initialize(mx->init->Xavier());\n",
    "    return bless ($self, $class);\n",
    "}\n",
    "\n",
    "sub forward{\n",
    "    my ($self , $X, %args) = (splice(@_, 0, 2), d2l->get_arguments(\\@_));\n",
    "        # X shape: (batch_size, num_steps)\n",
    "        # embs = self.embedding(d2l.transpose(X))\n",
    "        my $embs = $self->{embedding}->forward(mx->nd->transpose($X));\n",
    "        # embs shape: (num_steps, batch_size, embed_size)\n",
    "        my ($outputs, $state)= @{$self->{rnn}->forward($embs)};\n",
    "        # outputs shape: (num_steps, batch_size, num_hiddens)\n",
    "        # state shape: (num_layers, batch_size, num_hiddens)\n",
    "    return [$outputs, $state];\n",
    "}\n",
    "1;\n",
    "}\n"
   ]
  },
  {
   "cell_type": "markdown",
   "id": "91272b81",
   "metadata": {},
   "source": [
    "Let's use a concrete example\n",
    "to illustrate the above encoder implementation.\n",
    "Below, we instantiate a two-layer GRU encoder\n",
    "whose number of hidden units is 16.\n",
    "Given a minibatch of sequence inputs `X`\n",
    "(batch size $=4$; number of time steps $=9$),\n",
    "the hidden states of the final layer\n",
    "at all the time steps\n",
    "(`enc_outputs` returned by the encoder's recurrent layers)\n",
    "are a tensor of shape\n",
    "(number of time steps, batch size, number of hidden units)."
   ]
  },
  {
   "cell_type": "code",
   "execution_count": null,
   "id": "1a8bcc8c",
   "metadata": {},
   "outputs": [],
   "source": [
    "vocab_size, embed_size, num_hiddens, num_layers = 10, 8, 16, 2\n",
    "batch_size, num_steps = 4, 9\n",
    "encoder = Seq2SeqEncoder(vocab_size, embed_size, num_hiddens, num_layers)\n",
    "X = torch.zeros((batch_size, num_steps))\n",
    "enc_outputs, enc_state = encoder(X)\n",
    "d2l.check_shape(enc_outputs, (num_steps, batch_size, num_hiddens))"
   ]
  },
  {
   "cell_type": "code",
   "execution_count": 67,
   "id": "8b7721b3",
   "metadata": {
    "scrolled": true
   },
   "outputs": [
    {
     "name": "stdout",
     "output_type": "stream",
     "text": [
      "Seq2SeqEncoder(\n",
      "\n",
      ")\n",
      "Embedding(10 -> 8, float32)\n",
      "GRU(16, TNC, num_layers=2)\n",
      "<AI::MXNet::NDArray 9x4x16 @cpu(0)><AI::MXNet::NDArray 2x4x16 @cpu(0)>\n",
      "dense:\n",
      "\t0\tdense1_weight\tParameter dense1_weight (shape=(10, 0), dtype=float32, stype=default)\n",
      "\t1\tdense1_bias\tParameter dense1_bias (shape=(10), dtype=float32, stype=default)\n",
      "rnn:\n",
      "\t0\tgru5_l0_i2h_weight\t<AI::MXNet::NDArray 48x8 @cpu(0)>\n",
      "\t1\tgru5_l0_h2h_weight\t<AI::MXNet::NDArray 48x16 @cpu(0)>\n",
      "\t2\tgru5_l0_i2h_bias\t<AI::MXNet::NDArray 48 @cpu(0)>\n",
      "\t3\tgru5_l0_h2h_bias\t<AI::MXNet::NDArray 48 @cpu(0)>\n",
      "\t4\tgru5_l1_i2h_weight\t<AI::MXNet::NDArray 48x16 @cpu(0)>\n",
      "\t5\tgru5_l1_h2h_weight\t<AI::MXNet::NDArray 48x16 @cpu(0)>\n",
      "\t6\tgru5_l1_i2h_bias\t<AI::MXNet::NDArray 48 @cpu(0)>\n",
      "\t7\tgru5_l1_h2h_bias\t<AI::MXNet::NDArray 48 @cpu(0)>\n",
      "embedding:\n",
      "\t0\tembedding5_weight\t<AI::MXNet::NDArray 10x8 @cpu(0)>\n"
     ]
    }
   ],
   "source": [
    "my ($vocab_size, $embed_size, $num_hiddens, $num_layers) = (10, 8, 16, 2);\n",
    "my ($batch_size, $num_steps) = (4, 9);\n",
    "my $encoder = new Seq2SeqEncoder ($vocab_size, $embed_size, $num_hiddens, $num_layers); \n",
    "print $encoder, \"\\n\";\n",
    "print $encoder->{embedding}, \"\\n\";\n",
    "print $encoder->{rnn}{rnn},\"\\n\";\n",
    "my $X = mx->nd->zeros([$batch_size, $num_steps]);\n",
    "my ($enc_outputs, $enc_state) = @{$encoder->forward($X)};\n",
    "print $enc_outputs, $enc_state, \"\\n\";\n",
    "d2l->check_shape ($enc_outputs, [$num_steps, $batch_size, $num_hiddens]);\n",
    "d2l->list_params ($encoder);"
   ]
  },
  {
   "cell_type": "markdown",
   "id": "a8cd1dc5",
   "metadata": {},
   "source": [
    "Since we are using a GRU here, the shape of the multilayer hidden states at the final time step is (number of hidden layers, batch size, number of hidden units)."
   ]
  },
  {
   "cell_type": "code",
   "execution_count": null,
   "id": "84b089b7",
   "metadata": {},
   "outputs": [],
   "source": [
    "d2l.check_shape(enc_state, (num_layers, batch_size, num_hiddens))"
   ]
  },
  {
   "cell_type": "code",
   "execution_count": 38,
   "id": "a4578e87",
   "metadata": {},
   "outputs": [
    {
     "data": {
      "text/plain": [
       "1"
      ]
     },
     "execution_count": 38,
     "metadata": {},
     "output_type": "execute_result"
    }
   ],
   "source": [
    "d2l->check_shape($enc_state, [$num_layers, $batch_size, $num_hiddens])"
   ]
  },
  {
   "cell_type": "markdown",
   "id": "020a83d5",
   "metadata": {},
   "source": [
    "# 10.7.3. Decoder"
   ]
  },
  {
   "cell_type": "markdown",
   "id": "4689229a",
   "metadata": {},
   "source": [
    "Given a target output sequence $y_1, y_2, \\ldots, y_{T'}$\n",
    "for each time step $t'$\n",
    "(we use $t^\\prime$ to differentiate from the input sequence time steps),\n",
    "the decoder assigns a predicted probability\n",
    "to each possible token occurring at step $y_{t'+1}$\n",
    "conditioned upon the previous tokens in the target\n",
    "$y_1, \\ldots, y_{t'}$ \n",
    "and the context variable \n",
    "$\\mathbf{c}$, i.e., $P(y_{t'+1} \\mid y_1, \\ldots, y_{t'}, \\mathbf{c})$.\n",
    "\n",
    "To predict the subsequent token $t^\\prime+1$ in the target sequence,\n",
    "the RNN decoder takes the previous step's target token $y_{t^\\prime}$,\n",
    "the hidden RNN state from the previous time step $\\mathbf{s}_{t^\\prime-1}$,\n",
    "and the context variable $\\mathbf{c}$ as its input,\n",
    "and transforms them into the hidden state \n",
    "$\\mathbf{s}_{t^\\prime}$ at the current time step.\n",
    "We can use a function $g$ to express \n",
    "the transformation of the decoder's hidden layer:\n",
    "\n",
    "$$\\mathbf{s}_{t^\\prime} = g(y_{t^\\prime-1}, \\mathbf{c}, \\mathbf{s}_{t^\\prime-1}).$$\n",
    "(10.7.3)\n",
    "\n",
    "After obtaining the hidden state of the decoder,\n",
    "we can use an output layer and the softmax operation \n",
    "to compute the predictive distribution\n",
    "$p(y_{t^{\\prime}+1} \\mid y_1, \\ldots, y_{t^\\prime}, \\mathbf{c})$ \n",
    "over the subsequent output token ${t^\\prime+1}$.\n",
    "\n",
    "Following Fig. 10.7.1,\n",
    "when implementing the decoder as follows,\n",
    "we directly use the hidden state at the final time step\n",
    "of the encoder\n",
    "to initialize the hidden state of the decoder.\n",
    "This requires that the RNN encoder and the RNN decoder \n",
    "have the same number of layers and hidden units.\n",
    "To further incorporate the encoded input sequence information,\n",
    "the context variable is concatenated\n",
    "with the decoder input at all the time steps.\n",
    "To predict the probability distribution of the output token,\n",
    "we use a fully connected layer\n",
    "to transform the hidden state \n",
    "at the final layer of the RNN decoder."
   ]
  },
  {
   "cell_type": "code",
   "execution_count": null,
   "id": "405924f6",
   "metadata": {},
   "outputs": [],
   "source": [
    "class Seq2SeqDecoder(d2l.Decoder):\n",
    "    \"\"\"The RNN decoder for sequence to sequence learning.\"\"\"\n",
    "    def __init__(self, vocab_size, embed_size, num_hiddens, num_layers,\n",
    "                 dropout=0):\n",
    "        super().__init__()\n",
    "        self.embedding = nn.Embedding(vocab_size, embed_size)\n",
    "        self.rnn = d2l.GRU(embed_size+num_hiddens, num_hiddens,\n",
    "                           num_layers, dropout)\n",
    "        self.dense = nn.LazyLinear(vocab_size)\n",
    "        self.apply(init_seq2seq)\n",
    "\n",
    "    def init_state(self, enc_all_outputs, *args):\n",
    "        return enc_all_outputs\n",
    "\n",
    "    def forward(self, X, state):\n",
    "        # X shape: (batch_size, num_steps)\n",
    "        # embs shape: (num_steps, batch_size, embed_size)\n",
    "        embs = self.embedding(X.t().type(torch.int32))\n",
    "        enc_output, hidden_state = state\n",
    "        # context shape: (batch_size, num_hiddens)\n",
    "        context = enc_output[-1]\n",
    "        # Broadcast context to (num_steps, batch_size, num_hiddens)\n",
    "        context = context.repeat(embs.shape[0], 1, 1)\n",
    "        # Concat at the feature dimension\n",
    "        embs_and_context = torch.cat((embs, context), -1)\n",
    "        outputs, hidden_state = self.rnn(embs_and_context, hidden_state)\n",
    "        outputs = self.dense(outputs).swapaxes(0, 1)\n",
    "        # outputs shape: (batch_size, num_steps, vocab_size)\n",
    "        # hidden_state shape: (num_layers, batch_size, num_hiddens)\n",
    "        return outputs, [enc_output, hidden_state]"
   ]
  },
  {
   "cell_type": "code",
   "execution_count": 105,
   "id": "671b150e",
   "metadata": {},
   "outputs": [
    {
     "data": {
      "text/plain": [
       "1"
      ]
     },
     "execution_count": 105,
     "metadata": {},
     "output_type": "execute_result"
    },
    {
     "ename": "Warning",
     "evalue": "Subroutine new redefined at reply input line 4.\n\nSubroutine init_state redefined at reply input line 20.\n\nSubroutine forward redefined at reply input line 26.\n",
     "output_type": "error",
     "traceback": [
      "Subroutine new redefined at reply input line 4.\n\nSubroutine init_state redefined at reply input line 20.\n\nSubroutine forward redefined at reply input line 26.\n"
     ]
    }
   ],
   "source": [
    "package Seq2SeqDecoder {\n",
    "    use base (\"d2l::Decoder\");\n",
    "\n",
    "    sub new {\n",
    "        my ($class, %args) = (shift, d2l->get_arguments(vocab_size => undef,\n",
    "                                                        embed_size => undef,\n",
    "                                                        num_hiddens => undef,\n",
    "                                                        num_layers => undef,\n",
    "                                                        dropout => 0, @_));\n",
    "        my $self = $class->SUPER::new();\n",
    "        $self->{embedding} = mx->gluon->nn->Embedding($args{vocab_size}, $args{embed_size});\n",
    "        $self->{rnn} = d2l::GRU->new($args{embed_size} + $args{num_hiddens}, $args{num_hiddens}, $args{num_layers}, $args{dropout});\n",
    "        $self->{dense} = mx->gluon->nn->LazyLinear($args{vocab_size});\n",
    "        map {$self->register_child($self->{$_})} ('embedding', 'rnn', 'dense');\n",
    "        $self->{dense}= mx->gluon->nn->Dense($args{vocab_size}, flatten=>0);\n",
    "        $self->initialize(mx->init->init_seq2seq());\n",
    "        return bless ($self, $class);\n",
    "    }\n",
    "\n",
    "      sub init_state {\n",
    "        my ($self, $enc_all_outputs, @args) = @_;\n",
    "        my %args = d2l->get_arguments(@args);\n",
    "        return $enc_all_outputs;\n",
    "    }\n",
    "\n",
    "    sub forward {\n",
    "        #my ($self, $X, $state) = (splice(@_, 0, 2), d2l->get_arguments(\\@_));\n",
    "        my ($self, $X, $state) = (splice(@_, 0, 3));\n",
    "        my %args = d2l->get_arguments(\\@_);\n",
    "        my $embs = $self->{embedding}->forward(mx->nd->transpose($X));\n",
    "        my ($enc_output, $hidden_state) = @{$state};\n",
    "        my $context = $enc_output->slice([0, $enc_output->shape->[-1] - 1])->squeeze();\n",
    "        $context = mx->nd->repeat($context, $embs->shape->[0])->expand_dims(0);\n",
    "        my $embs_and_context = mx->nd->concatenate([$embs, $context], axis => -1);\n",
    "        my ($outputs, $new_hidden_state) = @{$self->{rnn}->forward($embs_and_context, $hidden_state)};\n",
    "        $outputs = $self->{dense}->forward($outputs)->swapaxes(0, 1);\n",
    "        return [$outputs, [$enc_output, $new_hidden_state]];\n",
    "    }\n",
    "\n",
    "    1;\n",
    "}\n"
   ]
  },
  {
   "cell_type": "markdown",
   "id": "98d59221",
   "metadata": {},
   "source": [
    "To illustrate the implemented decoder, below we instantiate it with the same hyperparameters from the aforementioned encoder. As we can see, the output shape of the decoder becomes (batch size, number of time steps, vocabulary size), where the final dimension of the tensor stores the predicted token distribution."
   ]
  },
  {
   "cell_type": "code",
   "execution_count": null,
   "id": "833dc212",
   "metadata": {},
   "outputs": [],
   "source": [
    "decoder = Seq2SeqDecoder(vocab_size, embed_size, num_hiddens, num_layers)\n",
    "state = decoder.init_state(encoder(X))\n",
    "dec_outputs, state = decoder(X, state)\n",
    "d2l.check_shape(dec_outputs, (batch_size, num_steps, vocab_size))\n",
    "d2l.check_shape(state[1], (num_layers, batch_size, num_hiddens))"
   ]
  },
  {
   "cell_type": "code",
   "execution_count": 106,
   "id": "b9868ce4",
   "metadata": {},
   "outputs": [
    {
     "ename": "Warning",
     "evalue": "Odd number of elements in hash assignment at /usr/local/lib/perl5/site_perl/5.32.1/x86_64-linux/d2l.pm line 2673.\n",
     "output_type": "error",
     "traceback": [
      "Odd number of elements in hash assignment at /usr/local/lib/perl5/site_perl/5.32.1/x86_64-linux/d2l.pm line 2673.\n"
     ]
    },
    {
     "ename": "Error",
     "evalue": "Can't use string (\"2\") as an ARRAY ref while \"strict refs\" in use at /usr/local/lib/perl5/site_perl/5.32.1/x86_64-linux/d2l.pm line 2676.\n",
     "output_type": "error",
     "traceback": [
      "Can't use string (\"2\") as an ARRAY ref while \"strict refs\" in use at /usr/local/lib/perl5/site_perl/5.32.1/x86_64-linux/d2l.pm line 2676.\n"
     ]
    }
   ],
   "source": [
    "my $decoder = new Seq2SeqDecoder($vocab_size, $embed_size, $num_hiddens, $num_layers); \n",
    "print $decoder, \"\\n\";\n",
    "print $decoder->{embedding}, \"\\n\";\n",
    "print $decoder->{rnn}{rnn}, \"\\n\"; \n",
    "print $decoder->{dense}, \"\\n\";\n",
    "my $state = $decoder->init_state ($encoder->forward ($X)); \n",
    "print $state, \"\\n\";\n",
    "print scalar @$state, \"\\n\";\n",
    "print \"state->[0]: \", $state->[0], \"\\n\";\n",
    "print \"state->[1]: \", $state->[1], \"\\n\";\n",
    "(my $dec_outputs, $state) = @{$decoder->forward ($X, $state)};\n",
    "print \"state->[1]: \", $state->[1], \"\\n\";\n",
    "d2l->check_shape ($dec_outputs, [$batch_size, $num_steps, $vocab_size]);\n",
    "d2l->check_shape ($state->[1], [$num_layers, $batch_size, $num_hiddens]); \n",
    "d2l->list_params ($decoder);"
   ]
  },
  {
   "cell_type": "markdown",
   "id": "29eea88e",
   "metadata": {},
   "source": [
    "The layers in the above RNN encoder--decoder model \n",
    "are summarized in Fig. 10.7.2.\n",
    "\n",
    "![Layers in an RNN encoder--decoder model.](../img/seq2seq-details.svg)\n",
    "\n",
    "Fig. 10.7.2 Layers in a RNN encoder-decoder model."
   ]
  },
  {
   "cell_type": "markdown",
   "id": "68a838c2",
   "metadata": {},
   "source": [
    "# 10.7.4. Encoder–Decoder for Sequence-to-Sequence Learning\n",
    "Putting it all together in code yields the following:"
   ]
  },
  {
   "cell_type": "code",
   "execution_count": null,
   "id": "87b2bdae",
   "metadata": {},
   "outputs": [],
   "source": [
    "class Seq2Seq(d2l.EncoderDecoder):  #@save\n",
    "    \"\"\"The RNN encoder--decoder for sequence to sequence learning.\"\"\"\n",
    "    def __init__(self, encoder, decoder, tgt_pad, lr):\n",
    "        super().__init__(encoder, decoder)\n",
    "        self.save_hyperparameters()\n",
    "\n",
    "    def validation_step(self, batch):\n",
    "        Y_hat = self(*batch[:-1])\n",
    "        self.plot('loss', self.loss(Y_hat, batch[-1]), train=False)\n",
    "\n",
    "    def configure_optimizers(self):\n",
    "        # Adam optimizer is used here\n",
    "        return torch.optim.Adam(self.parameters(), lr=self.lr)"
   ]
  },
  {
   "cell_type": "code",
   "execution_count": 17,
   "id": "1b283657",
   "metadata": {},
   "outputs": [
    {
     "data": {
      "text/plain": [
       "1"
      ]
     },
     "execution_count": 17,
     "metadata": {},
     "output_type": "execute_result"
    }
   ],
   "source": [
    "package Seq2Seq {\n",
    "    use base (\"d2l::EncoderDecoder\");\n",
    "\n",
    "    sub new {\n",
    "        my ($class, $encoder, $decoder, $tgt_pad, $lr) = @_;\n",
    "        my $self = $class->SUPER::new($encoder, $decoder);\n",
    "        $self->{tgt_pad} = $tgt_pad;\n",
    "        $self->{lr} = $lr;\n",
    "        $self->save_hyperparameters();\n",
    "        return bless ($self, $class);\n",
    "    }\n",
    "\n",
    "    sub validation_step {\n",
    "        my ($self, $batch) = @_;\n",
    "        my $Y_hat = $self->forward(@$batch[0 .. $#{$batch} - 2]);\n",
    "        $self->plot('loss', $self->loss($Y_hat, $batch->[-1]), train => 0);\n",
    "    }\n",
    "\n",
    "    sub configure_optimizers {\n",
    "        my ($self) = @_;\n",
    "        # Assuming Adam optimizer is used here\n",
    "        my $adam = mx->optimizer->Adam(learning_rate => $self->{lr});\n",
    "        return $adam;\n",
    "    }\n",
    "\n",
    "    1;\n",
    "}\n"
   ]
  },
  {
   "cell_type": "markdown",
   "id": "e55a0b00",
   "metadata": {},
   "source": [
    "# 10.7.5. Loss Function with Masking"
   ]
  },
  {
   "cell_type": "markdown",
   "id": "9f53665e",
   "metadata": {},
   "source": [
    "At each time step, the decoder predicts a probability distribution for the output tokens. As with language modeling, we can apply softmax to obtain the distribution and calculate the cross-entropy loss for optimization. Recall from Section 10.5 that the special padding tokens are appended to the end of sequences and so sequences of varying lengths can be efficiently loaded in minibatches of the same shape. However, prediction of padding tokens should be excluded from loss calculations. To this end, we can mask irrelevant entries with zero values so that multiplication of any irrelevant prediction with zero equates to zero."
   ]
  },
  {
   "cell_type": "code",
   "execution_count": null,
   "id": "00eefe12",
   "metadata": {},
   "outputs": [],
   "source": [
    "@d2l.add_to_class(Seq2Seq)\n",
    "def loss(self, Y_hat, Y):\n",
    "    l = super(Seq2Seq, self).loss(Y_hat, Y, averaged=False)\n",
    "    mask = (Y.reshape(-1) != self.tgt_pad).type(torch.float32)\n",
    "    return (l * mask).sum() / mask.sum()"
   ]
  },
  {
   "cell_type": "code",
   "execution_count": 18,
   "id": "0a3bd3d0",
   "metadata": {},
   "outputs": [],
   "source": [
    "package Seq2Seq;\n",
    "\n",
    "sub add_loss_method {\n",
    "    my ($self, $Y_hat, $Y) = @_;\n",
    "\n",
    "    # Assume you have a method 'loss' in the parent class and a 'tgt_pad' attribute\n",
    "    my $l = $self->loss($Y_hat, $Y, averaged => 0);\n",
    "    my $mask = ($Y->reshape(-1) != $self->{tgt_pad})->to(dtype => 'torch.float32');\n",
    "    my $masked_loss = ($l * $mask)->sum / $mask->sum;\n",
    "\n",
    "    return $masked_loss;\n",
    "}"
   ]
  },
  {
   "cell_type": "markdown",
   "id": "f3d7b71e",
   "metadata": {},
   "source": [
    "# 10.7.6. Training\n",
    "Now we can create and train an RNN encoder–decoder model for sequence-to-sequence learning on the machine translation dataset."
   ]
  },
  {
   "cell_type": "code",
   "execution_count": null,
   "id": "c6b8f440",
   "metadata": {},
   "outputs": [],
   "source": [
    "data = d2l.MTFraEng(batch_size=128)\n",
    "embed_size, num_hiddens, num_layers, dropout = 256, 256, 2, 0.2\n",
    "encoder = Seq2SeqEncoder(\n",
    "    len(data.src_vocab), embed_size, num_hiddens, num_layers, dropout)\n",
    "decoder = Seq2SeqDecoder(\n",
    "    len(data.tgt_vocab), embed_size, num_hiddens, num_layers, dropout)\n",
    "model = Seq2Seq(encoder, decoder, tgt_pad=data.tgt_vocab['<pad>'],\n",
    "                lr=0.005)\n",
    "trainer = d2l.Trainer(max_epochs=30, gradient_clip_val=1, num_gpus=1)\n",
    "trainer.fit(model, data)"
   ]
  },
  {
   "cell_type": "code",
   "execution_count": 20,
   "id": "8654498c",
   "metadata": {},
   "outputs": [
    {
     "ename": "Error",
     "evalue": "syntax error at reply input line 4, near \"src_vocab)\"\nsyntax error at reply input line 7, near \"tgt_vocab)\"\nBEGIN not safe after errors--compilation aborted at reply input line 13.\n\n",
     "output_type": "error",
     "traceback": [
      "syntax error at reply input line 4, near \"src_vocab)\"\nsyntax error at reply input line 7, near \"tgt_vocab)\"\nBEGIN not safe after errors--compilation aborted at reply input line 13.\n\n"
     ]
    }
   ],
   "source": [
    "my $data = new d21::MTFraEng (batch_size=>128);\n",
    "($embed_size, $num_hiddens, $num_layers, my $dropout) = (256, 256, 2, 0.2); \n",
    "$encoder = new Seq2SeqEncoder(\n",
    "    $data->{src_vocab)->len (), $embed_size, $num_hiddens, $num_layers, $dropout); \n",
    "$decoder = new Seq2SeqDecoder(\n",
    "    $data->{tgt_vocab}->len (), $embed_size, $num_hiddens, $num_layers, $dropout);\n",
    "my $model = new Seq2Seq ($encoder, $decoder, tgt_pad->$data->{tgt_vocab)->getitem(\"\"<pad>\"\"), lr=>0.005);\n",
    "my $trainer = new d2l::Trainer (max_epochs >30, gradient_clip_val>1, num_gpus=>1); \n",
    "$trainer->fit ($model, $data);"
   ]
  },
  {
   "cell_type": "markdown",
   "id": "60d95ae7",
   "metadata": {},
   "source": [
    "# 10.7.7. Prediction\n",
    "To predict the output sequence at each step, the predicted token from the previous time step is fed into the decoder as an input. One simple strategy is to sample whichever token that has been assigned by the decoder the highest probability when predicting at each step. As in training, at the initial time step the beginning-of-sequence (“<bos>”) token is fed into the decoder. This prediction process is illustrated in Fig. 10.7.3. When the end-of-sequence (“&lt;eos&gt;”) token is predicted, the prediction of the output sequence is complete.\n",
    "![ Fig. 10.7.3 Predicting the output sequence token by token using an RNN encoder--decoder.](../img/seq2seq-predict.svg)\n",
    "\n",
    "In the next section, we will introduce \n",
    "more sophisticated strategies \n",
    "based on beam search (Section 10.8)."
   ]
  },
  {
   "cell_type": "code",
   "execution_count": null,
   "id": "5404f9ff",
   "metadata": {},
   "outputs": [],
   "source": [
    "@d2l.add_to_class(d2l.EncoderDecoder)  #@save\n",
    "def predict_step(self, batch, device, num_steps,\n",
    "                 save_attention_weights=False):\n",
    "    batch = [a.to(device) for a in batch]\n",
    "    src, tgt, src_valid_len, _ = batch\n",
    "    enc_all_outputs = self.encoder(src, src_valid_len)\n",
    "    dec_state = self.decoder.init_state(enc_all_outputs, src_valid_len)\n",
    "    outputs, attention_weights = [tgt[:, (0)].unsqueeze(1), ], []\n",
    "    for _ in range(num_steps):\n",
    "        Y, dec_state = self.decoder(outputs[-1], dec_state)\n",
    "        outputs.append(Y.argmax(2))\n",
    "        # Save attention weights (to be covered later)\n",
    "        if save_attention_weights:\n",
    "            attention_weights.append(self.decoder.attention_weights)\n",
    "    return torch.cat(outputs[1:], 1), attention_weights"
   ]
  },
  {
   "cell_type": "code",
   "execution_count": null,
   "id": "369c781f",
   "metadata": {},
   "outputs": [],
   "source": [
    "package d2l::EncoderDecoder;\n",
    "\n",
    "sub add_predict_step_method {\n",
    "    my ($self, $batch, $device, $num_steps, $save_attention_weights) = @_;\n",
    "\n",
    "    # Assume the necessary methods and attributes are available within EncoderDecoder\n",
    "    $batch = [map { $_->to($device) } @$batch];\n",
    "    my ($src, $tgt, $src_valid_len, undef) = @$batch;\n",
    "\n",
    "    my $enc_all_outputs = $self->encoder($src, $src_valid_len);\n",
    "    my $dec_state = $self->decoder->init_state($enc_all_outputs, $src_valid_len);\n",
    "\n",
    "    my @outputs = ($tgt->slice(':, (0)')->unsqueeze(1));\n",
    "    my @attention_weights = ();\n",
    "\n",
    "    for (1..$num_steps) {\n",
    "        my ($Y, $new_dec_state) = $self->decoder->forward($outputs[-1], $dec_state);\n",
    "        push @outputs, $Y->argmax(2);\n",
    "        \n",
    "        if ($save_attention_weights) {\n",
    "            push @attention_weights, $self->decoder->attention_weights;\n",
    "        }\n",
    "\n",
    "        $dec_state = $new_dec_state;\n",
    "    }\n",
    "\n",
    "    my $final_outputs = torch->cat(\\@outputs[1..$#outputs], 1);\n",
    "    return ($final_outputs, \\@attention_weights);\n",
    "}\n",
    "\n",
    "1;"
   ]
  },
  {
   "cell_type": "markdown",
   "id": "134ea92b",
   "metadata": {},
   "source": [
    "# 10.7.8. Evaluation of Predicted Sequences\n",
    "We can evaluate a predicted sequence\n",
    "by comparing it with the\n",
    "target sequence (the ground truth).\n",
    "But what precisely is the appropriate measure \n",
    "for comparing similarity between two sequences?\n",
    "\n",
    "\n",
    "Bilingual Evaluation Understudy (BLEU),\n",
    "though originally proposed for evaluating\n",
    "machine translation results (Papineni et al. 2002),\n",
    "has been extensively used in measuring\n",
    "the quality of output sequences for different applications.\n",
    "In principle, for any $n$-gram (Section 9.3.1.1) in the predicted sequence,\n",
    "BLEU evaluates whether this $n$-gram appears\n",
    "in the target sequence.\n",
    "\n",
    "Denote by $p_n$ the precision of an $n$-gram,\n",
    "defined as the ratio \n",
    "of the number of matched $n$-grams in\n",
    "the predicted and target sequences\n",
    "to the number of $n$-grams in the predicted sequence.\n",
    "To explain, given a target sequence $A$, $B$, $C$, $D$, $E$, $F$,\n",
    "and a predicted sequence $A$, $B$, $B$, $C$, $D$,\n",
    "we have $p_1 = 4/5$,  $p_2 = 3/4$, $p_3 = 1/3$, and $p_4 = 0$.\n",
    "Now let $\\textrm{len}_{\\textrm{label}}$ and $\\textrm{len}_{\\textrm{pred}}$\n",
    "be the numbers of tokens in the target sequence \n",
    "and the predicted sequence, respectively.\n",
    "Then, BLEU is defined as\n",
    "\n",
    "$$ \\exp\\left(\\min\\left(0, 1 - \\frac{\\textrm{len}_{\\textrm{label}}}{\\textrm{len}_{\\textrm{pred}}}\\right)\\right) \\prod_{n=1}^k p_n^{1/2^n},$$\n",
    "(10.7.4)\n",
    "\n",
    "where $k$ is the longest $n$-gram for matching.\n",
    "\n",
    "Based on the definition of BLEU in (10.7.4),\n",
    "whenever the predicted sequence is the same as the target sequence, BLEU is 1.\n",
    "Moreover,\n",
    "since matching longer $n$-grams is more difficult,\n",
    "BLEU assigns a greater weight\n",
    "when a longer $n$-gram has high precision.\n",
    "Specifically, when $p_n$ is fixed,\n",
    "$p_n^{1/2^n}$ increases as $n$ grows (the original paper uses $p_n^{1/n}$).\n",
    "Furthermore,\n",
    "since\n",
    "predicting shorter sequences\n",
    "tends to yield a higher $p_n$ value,\n",
    "the coefficient before the multiplication term in (10.7.4)\n",
    "penalizes shorter predicted sequences.\n",
    "For example, when $k=2$,\n",
    "given the target sequence $A$, $B$, $C$, $D$, $E$, $F$ and the predicted sequence $A$, $B$,\n",
    "although $p_1 = p_2 = 1$, the penalty factor $\\exp(1-6/2) \\approx 0.14$ lowers the BLEU.\n",
    "\n",
    "We implement the BLEU measure as follows."
   ]
  },
  {
   "cell_type": "code",
   "execution_count": null,
   "id": "e1e6ba20",
   "metadata": {},
   "outputs": [],
   "source": [
    "def bleu(pred_seq, label_seq, k):  #@save\n",
    "    \"\"\"Compute the BLEU.\"\"\"\n",
    "    pred_tokens, label_tokens = pred_seq.split(' '), label_seq.split(' ')\n",
    "    len_pred, len_label = len(pred_tokens), len(label_tokens)\n",
    "    score = math.exp(min(0, 1 - len_label / len_pred))\n",
    "    for n in range(1, min(k, len_pred) + 1):\n",
    "        num_matches, label_subs = 0, collections.defaultdict(int)\n",
    "        for i in range(len_label - n + 1):\n",
    "            label_subs[' '.join(label_tokens[i: i + n])] += 1\n",
    "        for i in range(len_pred - n + 1):\n",
    "            if label_subs[' '.join(pred_tokens[i: i + n])] > 0:\n",
    "                num_matches += 1\n",
    "                label_subs[' '.join(pred_tokens[i: i + n])] -= 1\n",
    "        score *= math.pow(num_matches / (len_pred - n + 1), math.pow(0.5, n))\n",
    "    return score"
   ]
  },
  {
   "cell_type": "code",
   "execution_count": null,
   "id": "d1f673df",
   "metadata": {},
   "outputs": [],
   "source": [
    "use Math::Complex;\n",
    "\n",
    "sub bleu {\n",
    "    my ($pred_seq, $label_seq, $k) = @_;\n",
    "    \n",
    "    my @pred_tokens = split(' ', $pred_seq);\n",
    "    my @label_tokens = split(' ', $label_seq);\n",
    "    \n",
    "    my $len_pred = scalar(@pred_tokens);\n",
    "    my $len_label = scalar(@label_tokens);\n",
    "    \n",
    "    my $score = exp(min(0, 1 - $len_label / $len_pred));\n",
    "    \n",
    "    for my $n (1..min($k, $len_pred)) {\n",
    "        my ($num_matches, %label_subs);\n",
    "        \n",
    "        for my $i (0..($len_label - $n)) {\n",
    "            $label_subs{join(' ', @label_tokens[$i..($i + $n - 1)])} += 1;\n",
    "        }\n",
    "        \n",
    "        for my $i (0..($len_pred - $n)) {\n",
    "            if ($label_subs{join(' ', @pred_tokens[$i..($i + $n - 1)])} > 0) {\n",
    "                $num_matches += 1;\n",
    "                $label_subs{join(' ', @pred_tokens[$i..($i + $n - 1)])} -= 1;\n",
    "            }\n",
    "        }\n",
    "        \n",
    "        $score *= ( $num_matches / ($len_pred - $n + 1) ) ** ( 0.5 ** $n );\n",
    "    }\n",
    "    \n",
    "    return $score;\n",
    "}"
   ]
  },
  {
   "cell_type": "markdown",
   "id": "386bc73f",
   "metadata": {},
   "source": [
    "In the end, we use the trained RNN encoder–decoder to translate a few English sentences into French and compute the BLEU of the results."
   ]
  },
  {
   "cell_type": "code",
   "execution_count": null,
   "id": "00c4acf5",
   "metadata": {},
   "outputs": [],
   "source": [
    "engs = ['go .', 'i lost .', 'he\\'s calm .', 'i\\'m home .']\n",
    "fras = ['va !', 'j\\'ai perdu .', 'il est calme .', 'je suis chez moi .']\n",
    "preds, _ = model.predict_step(\n",
    "    data.build(engs, fras), d2l.try_gpu(), data.num_steps)\n",
    "for en, fr, p in zip(engs, fras, preds):\n",
    "    translation = []\n",
    "    for token in data.tgt_vocab.to_tokens(p):\n",
    "        if token == '<eos>':\n",
    "            break\n",
    "        translation.append(token)\n",
    "    print(f'{en} => {translation}, bleu,'\n",
    "          f'{bleu(\" \".join(translation), fr, k=2):.3f}')"
   ]
  },
  {
   "cell_type": "code",
   "execution_count": null,
   "id": "f1302a3e",
   "metadata": {},
   "outputs": [],
   "source": [
    "# Datos de ejemplo\n",
    "my @engs = ('go .', 'i lost .', 'he\\'s calm .', 'i\\'m home .');\n",
    "my @fras = ('va !', 'j\\'ai perdu .', 'il est calme .', 'je suis chez moi .');\n",
    "\n",
    "# Suponiendo que `predict_step`, `data.build` y otras funciones están definidas previamente\n",
    "\n",
    "# Predicciones\n",
    "my $num_steps = 10; # Aquí debes colocar el valor adecuado\n",
    "my @preds; # Aquí debes guardar las predicciones obtenidas\n",
    "\n",
    "# Loop sobre las frases para obtener las traducciones y calcular el BLEU\n",
    "for my $i (0..$#engs) {\n",
    "    my $en = $engs[$i];\n",
    "    my $fr = $fras[$i];\n",
    "    my $p = $preds[$i]; # Obtén la predicción correspondiente\n",
    "    \n",
    "    my @translation;\n",
    "    foreach my $token (@$p) {\n",
    "        last if $token eq '<eos>';\n",
    "        push @translation, $token;\n",
    "    }\n",
    "    \n",
    "    my $translated = join(' ', @translation);\n",
    "    my $bleu_score = bleu($translated, $fr, 2);\n",
    "    \n",
    "    print \"$en => $translated, bleu, $bleu_score\\n\";\n",
    "}"
   ]
  },
  {
   "cell_type": "markdown",
   "id": "d9edc39d",
   "metadata": {},
   "source": [
    "# 10.7.9. Summary\n",
    "\n",
    "Following the design of the encoder–decoder architecture, we can use two RNNs to design a model for sequence-to-sequence learning. In encoder–decoder training, the teacher forcing approach feeds original output sequences (in contrast to predictions) into the decoder. When implementing the encoder and the decoder, we can use multilayer RNNs. We can use masks to filter out irrelevant computations, such as when calculating the loss. For evaluating output sequences, BLEU is a popular measure that matches \n",
    "-grams between the predicted sequence and the target sequence.\n",
    "\n",
    "# 10.7.10. Exercises\n",
    "1. Can you adjust the hyperparameters to improve the translation results?\n",
    "1. Rerun the experiment without using masks in the loss calculation. What results do you observe? Why?\n",
    "1. If the encoder and the decoder differ in the number of layers or the number of hidden units, how can we initialize the hidden state of the decoder?\n",
    "1. In training, replace teacher forcing with feeding the prediction at the previous time step into the decoder. How does this influence the performance?\n",
    "1. Rerun the experiment by replacing GRU with LSTM.\n",
    "1. Are there any other ways to design the output layer of the decoder?\n",
    "\n"
   ]
  },
  {
   "cell_type": "code",
   "execution_count": null,
   "id": "428c24f5",
   "metadata": {},
   "outputs": [],
   "source": []
  }
 ],
 "metadata": {
  "kernelspec": {
   "display_name": "IPerl 0.011",
   "language": "perl",
   "name": "iperl"
  },
  "language_info": {
   "file_extension": ".pl",
   "mimetype": "text/x-perl",
   "name": "perl",
   "version": "5.32.1"
  }
 },
 "nbformat": 4,
 "nbformat_minor": 5
}
