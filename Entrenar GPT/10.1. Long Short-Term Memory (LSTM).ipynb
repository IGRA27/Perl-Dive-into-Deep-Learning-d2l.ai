{
 "cells": [
  {
   "cell_type": "markdown",
   "id": "9c37cccb",
   "metadata": {},
   "source": [
    "# Alejandro Moya, José Guzmán, Isaac Reyes"
   ]
  },
  {
   "cell_type": "markdown",
   "id": "34d154e8",
   "metadata": {},
   "source": [
    "# 10.1. Long Short-Term Memory (LSTM)¶\n"
   ]
  },
  {
   "cell_type": "markdown",
   "id": "b459129b",
   "metadata": {},
   "source": [
    "# 10.1. Long Short-Term Memory (LSTM)\n",
    "\n",
    "Shortly after the first Elman-style RNNs were trained using backpropagation \n",
    "([Elman, 1990](https://d2l.ai/chapter_references/zreferences.html#id65)), the problems of learning long-term dependencies\n",
    "(owing to vanishing and exploding gradients)\n",
    "became salient, with Bengio and Hochreiter \n",
    "discussing the problem ([Bengio et al., 1994](https://d2l.ai/chapter_references/zreferences.html#id14),[ Hochreiter et al., 200](https://d2l.ai/chapter_references/zreferences.html#id116)).\n",
    "Hochreiter had articulated this problem as early \n",
    "as 1991 in his Master's thesis, although the results \n",
    "were not widely known because the thesis was written in German.\n",
    "While gradient clipping helps with exploding gradients, \n",
    "handling vanishing gradients appears \n",
    "to require a more elaborate solution. \n",
    "One of the first and most successful techniques \n",
    "for addressing vanishing gradients \n",
    "came in the form of the long short-term memory (LSTM) model \n",
    "due to ([1997](https://d2l.ai/chapter_references/zreferences.html#id117)). \n",
    "LSTMs resemble standard recurrent neural networks \n",
    "but here each ordinary recurrent node\n",
    "is replaced by a *memory cell*.\n",
    "Each memory cell contains an *internal state*,\n",
    "i.e., a node with a self-connected recurrent edge of fixed weight 1,\n",
    "ensuring that the gradient can pass across many time steps \n",
    "without vanishing or exploding.\n",
    "\n",
    "The term \"long short-term memory\" comes from the following intuition.\n",
    "Simple recurrent neural networks \n",
    "have *long-term memory* in the form of weights.\n",
    "The weights change slowly during training, \n",
    "encoding general knowledge about the data.\n",
    "They also have *short-term memory*\n",
    "in the form of ephemeral activations,\n",
    "which pass from each node to successive nodes.\n",
    "The LSTM model introduces an intermediate type of storage via the memory cell.\n",
    "A memory cell is a composite unit, \n",
    "built from simpler nodes \n",
    "in a specific connectivity pattern,\n",
    "with the novel inclusion of multiplicative nodes.\n"
   ]
  },
  {
   "cell_type": "code",
   "execution_count": 1,
   "id": "b7f520ff",
   "metadata": {},
   "outputs": [],
   "source": [
    "use strict;\n",
    "use warnings;\n",
    "use Data::Dump qw(dump);\n",
    "use d2l;\n",
    "IPerl->load_plugin('Chart::Plotly');"
   ]
  },
  {
   "cell_type": "markdown",
   "id": "d84b9456",
   "metadata": {},
   "source": [
    "## 10.1.1. Gated Memory Cell\n",
    "\n",
    "Each memory cell is equipped with an *internal state*\n",
    "and a number of multiplicative gates that determine whether\n",
    "(i) a given input should impact the internal state (the *input gate*),\n",
    "(ii) the internal state should be flushed to $0$ (the *forget gate*),\n",
    "and (iii) the internal state of a given neuron \n",
    "should be allowed to impact the cell's output (the *output* gate)."
   ]
  },
  {
   "cell_type": "markdown",
   "id": "225b4269",
   "metadata": {},
   "source": [
    "### 10.1.1.1. Gated Hidden State\n",
    "\n",
    "The key distinction between vanilla RNNs and LSTMs\n",
    "is that the latter support gating of the hidden state.\n",
    "This means that we have dedicated mechanisms for\n",
    "when a hidden state should be *updated* and\n",
    "also for when it should be *reset*.\n",
    "These mechanisms are learned and they address the concerns listed above.\n",
    "For instance, if the first token is of great importance\n",
    "we will learn not to update the hidden state after the first observation.\n",
    "Likewise, we will learn to skip irrelevant temporary observations.\n",
    "Last, we will learn to reset the latent state whenever needed.\n",
    "We discuss this in detail below."
   ]
  },
  {
   "cell_type": "markdown",
   "id": "05c6e4d5",
   "metadata": {},
   "source": [
    "### 10.1.1.2. Input Gate, Forget Gate, and Output Gate\n",
    "\n",
    "The data feeding into the LSTM gates are\n",
    "the input at the current time step and\n",
    "the hidden state of the previous time step,\n",
    "as illustrated in [Fig. 10.1.1](https://d2l.ai/chapter_recurrent-modern/lstm.html#fig-lstm-0).\n",
    "Three fully connected layers with sigmoid activation functions\n",
    "compute the values of the input, forget, and output gates.\n",
    "As a result of the sigmoid activation,\n",
    "all values of the three gates\n",
    "are in the range of $(0, 1)$.\n",
    "Additionally, we require an *input node*,\n",
    "typically computed with a *tanh* activation function. \n",
    "Intuitively, the *input gate* determines how much\n",
    "of the input node's value should be added \n",
    "to the current memory cell internal state.\n",
    "The *forget gate* determines whether to keep\n",
    "the current value of the memory or flush it. \n",
    "And the *output gate* determines whether \n",
    "the memory cell should influence the output\n",
    "at the current time step."
   ]
  },
  {
   "cell_type": "markdown",
   "id": "0e41c1fd",
   "metadata": {},
   "source": [
    "![Computing the input gate, the forget gate, and the output gate in an LSTM model.](https://th.bing.com/th/id/R.d0c5a6ab4f325df7cf2e86cac917acf1?rik=EADBIDz3QL71hg&riu=http%3a%2f%2fgluon.ai%2f_images%2flstm-0.svg&ehk=X%2fRTg4zmlqRqadoSRAp5Q0gly%2f8%2b5zuRUDeuNNhAdPY%3d&risl=&pid=ImgRaw&r=0)\n",
    "\n",
    "<center>Fig. 10.1.1 Computing the input gate, the forget gate, and the output gate in an LSTM model.</center>\n",
    "\n",
    "Mathematically, suppose that there are $h$ hidden units, \n",
    "the batch size is $n$, and the number of inputs is $d$.\n",
    "Thus, the input is $\\mathbf{X}_t \\in \\mathbb{R}^{n \\times d}$ \n",
    "and the hidden state of the previous time step \n",
    "is $\\mathbf{H}_{t-1} \\in \\mathbb{R}^{n \\times h}$. \n",
    "Correspondingly, the gates at time step $t$\n",
    "are defined as follows: the input gate is $\\mathbf{I}_t \\in \\mathbb{R}^{n \\times h}$, \n",
    "the forget gate is $\\mathbf{F}_t \\in \\mathbb{R}^{n \\times h}$, \n",
    "and the output gate is $\\mathbf{O}_t \\in \\mathbb{R}^{n \\times h}$. \n",
    "They are calculated as follows:\n",
    "\n",
    "$$\n",
    "\\begin{aligned}\n",
    "\\mathbf{I}_t &= \\sigma(\\mathbf{X}_t \\mathbf{W}_{\\textrm{xi}} + \\mathbf{H}_{t-1} \\mathbf{W}_{\\textrm{hi}} + \\mathbf{b}_\\textrm{i}),\\\\\n",
    "\\mathbf{F}_t &= \\sigma(\\mathbf{X}_t \\mathbf{W}_{\\textrm{xf}} + \\mathbf{H}_{t-1} \\mathbf{W}_{\\textrm{hf}} + \\mathbf{b}_\\textrm{f}),\\\\\n",
    "\\mathbf{O}_t &= \\sigma(\\mathbf{X}_t \\mathbf{W}_{\\textrm{xo}} + \\mathbf{H}_{t-1} \\mathbf{W}_{\\textrm{ho}} + \\mathbf{b}_\\textrm{o}),\n",
    "\\end{aligned}\n",
    "$$\n",
    "\n",
    "where $\\mathbf{W}_{\\textrm{xi}}, \\mathbf{W}_{\\textrm{xf}}, \\mathbf{W}_{\\textrm{xo}} \\in \\mathbb{R}^{d \\times h}$ and $\\mathbf{W}_{\\textrm{hi}}, \\mathbf{W}_{\\textrm{hf}}, \\mathbf{W}_{\\textrm{ho}} \\in \\mathbb{R}^{h \\times h}$ are weight parameters \n",
    "and $\\mathbf{b}_\\textrm{i}, \\mathbf{b}_\\textrm{f}, \\mathbf{b}_\\textrm{o} \\in \\mathbb{R}^{1 \\times h}$ are bias parameters.\n",
    "Note that broadcasting \n",
    "(see [Section 2.1.4](https://d2l.ai/chapter_preliminaries/ndarray.html#subsec-broadcasting))\n",
    "is triggered during the summation.\n",
    "We use sigmoid functions \n",
    "(as introduced in [Section 5.1](https://d2l.ai/chapter_multilayer-perceptrons/mlp.html#sec-mlp)) \n",
    "to map the input values to the interval $(0, 1)$."
   ]
  },
  {
   "cell_type": "markdown",
   "id": "cf9935cb",
   "metadata": {},
   "source": [
    "### 10.1.1.3. Input Node\n",
    "\n",
    "Next we design the memory cell. \n",
    "Since we have not specified the action of the various gates yet, \n",
    "we first introduce the *input node* \n",
    "$\\tilde{\\mathbf{C}}_t \\in \\mathbb{R}^{n \\times h}$.\n",
    "Its computation is similar to that of the three gates described above, \n",
    "but uses a $\\tanh$ function with a value range for $(-1, 1)$ as the activation function. \n",
    "This leads to the following equation at time step $t$:\n",
    "\n",
    "$$\\tilde{\\mathbf{C}}_t = \\textrm{tanh}(\\mathbf{X}_t \\mathbf{W}_{\\textrm{xc}} + \\mathbf{H}_{t-1} \\mathbf{W}_{\\textrm{hc}} + \\mathbf{b}_\\textrm{c}),$$\n",
    "\n",
    "where $\\mathbf{W}_{\\textrm{xc}} \\in \\mathbb{R}^{d \\times h}$ and $\\mathbf{W}_{\\textrm{hc}} \\in \\mathbb{R}^{h \\times h}$ are weight parameters and $\\mathbf{b}_\\textrm{c} \\in \\mathbb{R}^{1 \\times h}$ is a bias parameter.\n",
    "\n",
    "A quick illustration of the input node is shown in [Fig. 10.1.2](https://d2l.ai/chapter_recurrent-modern/lstm.html#fig-lstm-1).\n",
    "\n",
    "![Computing the input node in an LSTM model.](https://d2l.ai/_images/lstm-1.svg)\n",
    "<center>Fig. 10.1.2 Computing the input node in an LSTM model.</center>"
   ]
  },
  {
   "cell_type": "markdown",
   "id": "6aa886bc",
   "metadata": {},
   "source": [
    "### 10.1.1.4. Memory Cell Internal State\n",
    "\n",
    "In LSTMs, the input gate $\\mathbf{I}_t$ governs \n",
    "how much we take new data into account via $\\tilde{\\mathbf{C}}_t$ \n",
    "and the forget gate $\\mathbf{F}_t$ addresses \n",
    "how much of the old cell internal state $\\mathbf{C}_{t-1} \\in \\mathbb{R}^{n \\times h}$ we retain. \n",
    "Using the Hadamard (elementwise) product operator $\\odot$\n",
    "we arrive at the following update equation:\n",
    "\n",
    "$$\\mathbf{C}_t = \\mathbf{F}_t \\odot \\mathbf{C}_{t-1} + \\mathbf{I}_t \\odot \\tilde{\\mathbf{C}}_t.$$\n",
    "\n",
    "If the forget gate is always 1 and the input gate is always 0, \n",
    "the memory cell internal state $\\mathbf{C}_{t-1}$\n",
    "will remain constant forever, \n",
    "passing unchanged to each subsequent time step.\n",
    "However, input gates and forget gates\n",
    "give the model the flexibility of being able to learn \n",
    "when to keep this value unchanged\n",
    "and when to perturb it in response \n",
    "to subsequent inputs. \n",
    "In practice, this design alleviates the vanishing gradient problem,\n",
    "resulting in models that are much easier to train,\n",
    "especially when facing datasets with long sequence lengths. \n",
    "\n",
    "We thus arrive at the flow diagram in [Fig. 10.1.3](https://d2l.ai/chapter_recurrent-modern/lstm.html#fig-lstm-2).\n",
    "\n",
    "![Computing the memory cell internal state in an LSTM model](https://d2l.ai/_images/lstm-2.svg)\n",
    "<center>Fig. 10.1.3 Computing the memory cell internal state in an LSTM model.</center>"
   ]
  },
  {
   "cell_type": "markdown",
   "id": "b07b8bd1",
   "metadata": {},
   "source": [
    "### 10.1.1.5. Hidden State\n",
    "\n",
    "Last, we need to define how to compute the output\n",
    "of the memory cell, i.e., the hidden state $\\mathbf{H}_t \\in \\mathbb{R}^{n \\times h}$, as seen by other layers. \n",
    "This is where the output gate comes into play.\n",
    "In LSTMs, we first apply $\\tanh$ to the memory cell internal state\n",
    "and then apply another point-wise multiplication,\n",
    "this time with the output gate.\n",
    "This ensures that the values of $\\mathbf{H}_t$ \n",
    "are always in the interval $(-1, 1)$:\n",
    "\n",
    "$$\\mathbf{H}_t = \\mathbf{O}_t \\odot \\tanh(\\mathbf{C}_t).$$\n",
    "\n",
    "\n",
    "Whenever the output gate is close to 1, \n",
    "we allow the memory cell internal state to impact the subsequent layers uninhibited,\n",
    "whereas for output gate values close to 0,\n",
    "we prevent the current memory from impacting other layers of the network\n",
    "at the current time step. \n",
    "Note that a memory cell can accrue information \n",
    "across many time steps without impacting the rest of the network\n",
    "(as long as the output gate takes values close to 0),\n",
    "and then suddenly impact the network at a subsequent time step\n",
    "as soon as the output gate flips from values close to 0\n",
    "to values close to 1. [Fig. 10.1.4](https://d2l.ai/chapter_recurrent-modern/lstm.html#fig-lstm-3) has a graphical illustration of the data flow.\n",
    "\n",
    "![Computing the hidden state in an LSTM model.](https://d2l.ai/_images/lstm-3.svg)\n",
    "<center>Fig. 10.1.4 Computing the hidden state in an LSTM model.</center>"
   ]
  },
  {
   "cell_type": "markdown",
   "id": "0a8c22fa",
   "metadata": {},
   "source": [
    "## 10.1.2. Implementation from Scratch\n",
    "\n",
    "Now let's implement an LSTM from scratch.\n",
    "As same as the experiments in [Section 9.5](https://d2l.ai/chapter_recurrent-neural-networks/rnn-scratch.html#sec-rnn-scratch),\n",
    "we first load *The Time Machine* dataset."
   ]
  },
  {
   "cell_type": "markdown",
   "id": "c7f2ed6b",
   "metadata": {},
   "source": [
    "### 10.1.2.1. Initializing Model Parameters\n",
    "\n",
    "Next, we need to define and initialize the model parameters. \n",
    "As previously, the hyperparameter `num_hiddens` \n",
    "dictates the number of hidden units.\n",
    "We initialize weights following a Gaussian distribution\n",
    "with 0.01 standard deviation, \n",
    "and we set the biases to 0."
   ]
  },
  {
   "cell_type": "code",
   "execution_count": 2,
   "id": "fc4b6393",
   "metadata": {},
   "outputs": [
    {
     "data": {
      "text/plain": [
       "1"
      ]
     },
     "execution_count": 2,
     "metadata": {},
     "output_type": "execute_result"
    }
   ],
   "source": [
    "package LSTMScratch{\n",
    "    use base qw(d2l::Module);\n",
    "    \n",
    "    sub new{\n",
    "        (my $class, our %args) = (shift, d2l->get_arguments(num_inputs=>0, num_hiddens=>0, sigma=>0.01, \\@_));\n",
    "        \n",
    "        my $self = $class->SUPER::new();\n",
    "        $self->save_hyperparameters(%args);\n",
    "        \n",
    "        my $init_weight = sub{my @shape = @_;\n",
    "                             our %args;\n",
    "                             mx->nd->random->randn(@shape) * $args{sigma};};\n",
    "        \n",
    "        my $triple = sub{our %args;\n",
    "                        $init_weight->($args{num_inputs}, $args{num_hiddens}),\n",
    "                        $init_weight->($args{num_hiddens}, $args{num_hiddens}),\n",
    "                        mx->nd->zeros([$args{num_hiddens}])};\n",
    "        \n",
    "        ($self->{W_xi}, $self->{W_hi}, $self->{b_i}) = $triple->(); # Input gate\n",
    "        ($self->{W_xf}, $self->{W_hf}, $self->{b_f}) = $triple->(); # # Forget gate\n",
    "        ($self->{W_xo}, $self->{W_ho}, $self->{b_o}) = $triple->(); # Output gate\n",
    "        ($self->{W_xc}, $self->{W_hc}, $self->{b_c}) = $triple->(); # Input node\n",
    "        \n",
    "        \n",
    "        return bless($self, $class);\n",
    "    }\n",
    "    \n",
    "    1;\n",
    "}"
   ]
  },
  {
   "cell_type": "markdown",
   "id": "2fa1d7d3",
   "metadata": {},
   "source": [
    "The actual model is defined as described above, consisting of three gates and an input node. Note that only the hidden state is passed to the output layer."
   ]
  },
  {
   "cell_type": "code",
   "execution_count": 3,
   "id": "af0e88bd",
   "metadata": {},
   "outputs": [
    {
     "data": {
      "text/plain": [
       "*LSTMScratch::forward"
      ]
     },
     "execution_count": 3,
     "metadata": {},
     "output_type": "execute_result"
    }
   ],
   "source": [
    "my $forward = sub {\n",
    "    my ($self, %args) =(shift, d2l->get_arguments(inputs=>undef,\n",
    "                                                  H_C=>[], \\@_)); \n",
    "    unless (@{$args{H_C}}){\n",
    "        $args{H} = mx->nd->zeros([$args{inputs}->shape->[1], $self->{num_hiddens}], ctx => $args{inputs}->context);\n",
    "        $args{C} = mx->nd->zeros([$args{inputs}->shape->[1], $self->{num_hiddens}], ctx => $args{inputs}->context);\n",
    "    }else{\n",
    "        ($args{H}, $args{C}) = @{$args{H_C}}; \n",
    "        \n",
    "    }\n",
    "\n",
    "    my ($outputs, $I, $F, $O, $C_tilde);    \n",
    "\n",
    "    foreach my $X (@{$args{inputs}}){ \n",
    "        $I = mx->nd->sigmoid(mx->nd->dot($X, $self->{W_xi}) +\n",
    "                               mx->nd->dot($args{H}, $self->{W_hi}) + $self->{b_i});\n",
    "        $F = mx->nd->sigmoid(mx->nd->dot($X, $self->{W_xf}) +\n",
    "                               mx->nd->dot($args{H}, $self->{W_hf}) + $self->{b_f});\n",
    "        $O =  mx->nd->sigmoid(mx->nd->dot($X, $self->{W_xo}) +\n",
    "                               mx->nd->dot($args{H}, $self->{W_ho}) + $self->{b_o});   \n",
    "        $C_tilde= mx->nd->tanh(mx->nd->dot($X, $self->{W_xc}) +\n",
    "                                  mx->nd->dot($args{H}, $self->{W_hc}) + $self->{b_c});\n",
    "                               \n",
    "        $args{C} = $I + $F +  $O + $C_tilde;\n",
    "        $args{H} = $O * mx->nd->tanh($args{C});\n",
    "        push @$outputs, $args{H};\n",
    "    }\n",
    "    \n",
    "    return $outputs, [$args{H},$args{C}];\n",
    " };\n",
    " \n",
    " d2l->add_to_class('LSTMScratch', 'forward', $forward);"
   ]
  },
  {
   "cell_type": "markdown",
   "id": "cfb93264",
   "metadata": {},
   "source": [
    "### 10.1.2.2. Training and Prediction\n",
    "\n",
    "Let’s train an LSTM model by instantiating the RNNLMScratch class from [Section 9.5.](https://d2l.ai/chapter_recurrent-neural-networks/rnn-scratch.html#sec-rnn-scratch)"
   ]
  },
  {
   "cell_type": "code",
   "execution_count": 7,
   "id": "d198e0f5",
   "metadata": {},
   "outputs": [
    {
     "name": "stdout",
     "output_type": "stream",
     "text": [
      "Training time: 11:53\n"
     ]
    },
    {
     "name": "stderr",
     "output_type": "stream",
     "text": [
      "No GPU support.\n"
     ]
    },
    {
     "data": {
      "text/html": [
       "<script>\n",
       "//# sourceURL=iperl-devel-plugin-chart-plotly.js\n",
       "            $('#Plotly').each(function(i, e) { $(e).attr('id', 'plotly') });\n",
       "\n",
       "            if (!window.Plotly) {\n",
       "                requirejs.config({\n",
       "                  paths: {\n",
       "                    plotly: ['https://cdn.plot.ly/plotly-latest.min']},\n",
       "                });\n",
       "                window.Plotly = {\n",
       "react : function (div, data, layout, config){\n",
       "                    require(['plotly'], function(plotly) {\n",
       "                      window.Plotly=plotly;\n",
       "Plotly.react(div, data, layout, config);                    });\n",
       "                  }\n",
       "                }\n",
       "            }\n",
       "</script>\n",
       "<div id=\"48624501-9d2b-11ee-b875-a6eaa084eb81\"></div>\n",
       "\n",
       "<script>\n",
       "Plotly.react(document.getElementById('48624501-9d2b-11ee-b875-a6eaa084eb81'),[{\"name\":\"train_ppl\",\"type\":\"scatter\",\"x\":[0.200000004470348,0.7,1.2,1.7,2.2,2.7,3.2,3.7,4.2,4.7,5.2,5.7,6.2,6.7,7.2,7.7,8.2,8.7,9.2,9.7,10.2,10.7,11.2,11.7,12.2,12.7,13.2,13.7,14.2,14.7,15.2,15.7,16.2,16.7,17.2,17.7,18.2,18.7,19.2,19.7,20.2,20.7,21.2,21.7,22.2,22.7,23.2,23.7,24.2,24.7,25.2,25.7,26.2,26.7,27.2,27.7,28.2,28.7,29.2,29.7,30.2,30.7,31.2,31.7,32.2,32.7,33.2,33.7,34.2,34.7,35.2,35.7,36.2,36.7,37.2,37.7,38.2,38.7,39.2,39.7,40.2,40.7,41.2,41.7,42.2,42.7,43.2,43.7,44.2,44.7,45.2,45.7,46.2,46.7,47.2,47.7,48.2,48.7,49.2,49.7],\"line\":{\"color\":\"blue\",\"dash\":\"solid\"},\"y\":[85.7551364898682,24.3320331573486,25.6593441009521,21.5985862731934,21.6611808776855,20.8051071166992,21.1360809326172,19.6170761108398,19.9808345794678,18.406702041626,18.7535095214844,17.1516040802002,17.7040460586548,17.6511699676514,16.7451341629028,16.4016519546509,15.4937000274658,15.5727632522583,14.537042427063,14.4050977706909,14.1023462295532,14.0979644775391,13.072855758667,13.3197185516357,12.6659526824951,12.8258251190186,12.1950090408325,12.3824020385742,11.8192296981812,11.781298828125,11.4504196166992,11.4654769897461,10.9696599960327,11.0967142105103,10.7022115707397,10.6570156097412,10.4382131576538,10.4047449111938,10.0638189315796,10.0771421432495,9.83521690368652,9.70515384674072,9.62279014587402,9.55573463439941,9.34401226043701,9.25964794158936,9.05081672668457,9.05974960327148,8.77262134552002,8.87714252471924,8.65308971405029,8.60053787231445,8.40290260314941,8.3696720123291,8.2895076751709,8.2623218536377,8.09095544815063,8.0960280418396,7.89366016387939,7.93220348358154,7.8380163192749,7.7284966468811,7.59899072647095,7.59716901779175,7.53651561737061,7.52092590332031,7.38588714599609,7.29059953689575,7.20665655136108,7.23311023712158,7.10617475509644,6.96900014877319,6.99148530960083,6.97415685653687,6.93800659179688,6.81918830871582,6.75609130859375,6.72670021057129,6.6640248298645,6.59222478866577,6.55758361816406,6.5795220375061,6.38233327865601,6.5522027015686,6.29980716705322,6.40460691452026,6.28572511672974,6.25768280029297,6.20833053588867,6.16552667617798,6.08637809753418,6.13721952438354,6.10490655899048,5.99705657958984,5.97405405044556,6.01482439041138,5.90512533187866,5.92362689971924,5.8553035736084,5.78248739242554]},{\"y\":[29.5718647003174,23.374690246582,22.9176525115967,21.7980533599854,20.4332008361816,19.1877994537354,16.880912399292,14.1103582382202,13.1308145523071,12.8912403106689,11.670804977417,11.2659694671631,11.242181968689,11.0036773681641,10.9173723220825,10.5412364959717,10.5418329238892,10.4244781494141,10.1197141647339,9.9523904800415,9.76313915252686,9.67933616638184,9.50518436431885,9.27729644775391,9.26345138549805,9.16196975708008,9.04085884094238,9.09133205413818,8.7307578086853,9.01629905700684,8.72634572982788,8.73777561187744,8.31406259536743,8.33913421630859,8.03435001373291,7.97557611465454,7.87063875198364,8.21868400573731,7.76644172668457,7.68020009994507,7.29145164489746,7.48591041564941,7.34659986495972,7.4204626083374,7.48775482177734,7.64478015899658,7.45828075408936,7.58261156082153,7.21651258468628,7.25509920120239],\"line\":{\"dash\":\"dot\",\"color\":\"orange\"},\"x\":[0.899999988079071,1.89999997615814,2.9,3.90000004768372,4.9,5.9,6.9,7.90000009536743,8.9,9.9,10.9,11.9,12.9,13.9,14.9,15.8999998092651,16.9,17.9,18.9,19.9,20.9,21.9,22.9,23.9,24.9,25.9,26.9,27.9,28.9,29.9,30.9,31.8999996185303,32.9,33.9,34.9,35.9,36.9,37.9,38.9,39.9,40.9,41.9,42.9,43.9,44.9,45.9,46.9,47.9,48.9,49.9],\"type\":\"scatter\",\"name\":\"val_ppl\"}] ,{\"title\":{\"text\":\"\"},\"width\":3.5,\"yaxis\":{\"type\":\"linear\"},\"height\":2.5,\"xaxis\":{\"type\":\"linear\",\"range\":[0,50],\"title\":\"epoch\"}} );\n",
       "</script>\n"
      ]
     },
     "metadata": {},
     "output_type": "display_data"
    }
   ],
   "source": [
    "my $data = new d2l::TimeMachine(batch_size => 1024, num_steps => 32);\n",
    "my $lstm = new LSTMScratch(num_inputs => $data->{vocab}->len, num_hiddens => 32);\n",
    "my $model = new d2l::RNNLMScratch($lstm, vocab_size => $data->{vocab}->len, lr => 4);\n",
    "my $trainer = new d2l::Trainer(max_epochs => 50, gradient_clip_val => 1, num_gpus => 1);\n",
    "$trainer->fit($model, $data);"
   ]
  },
  {
   "cell_type": "markdown",
   "id": "1f12dba7",
   "metadata": {},
   "source": [
    "### 10.1.3. Concise Implementation\n",
    "\n",
    "Using high-level APIs,\n",
    "we can directly instantiate an LSTM model.\n",
    "This encapsulates all the configuration details \n",
    "that we made explicit above. \n",
    "The code is significantly faster as it uses \n",
    "compiled operators rather than Python\n",
    "for many details that we spelled out before.\n"
   ]
  },
  {
   "cell_type": "code",
   "execution_count": 8,
   "id": "2dbb1ff8",
   "metadata": {},
   "outputs": [
    {
     "name": "stdout",
     "output_type": "stream",
     "text": [
      "Training time: 03:55\n"
     ]
    },
    {
     "data": {
      "text/html": [
       "<script>\n",
       "//# sourceURL=iperl-devel-plugin-chart-plotly.js\n",
       "            $('#Plotly').each(function(i, e) { $(e).attr('id', 'plotly') });\n",
       "\n",
       "            if (!window.Plotly) {\n",
       "                requirejs.config({\n",
       "                  paths: {\n",
       "                    plotly: ['https://cdn.plot.ly/plotly-latest.min']},\n",
       "                });\n",
       "                window.Plotly = {\n",
       "react : function (div, data, layout, config){\n",
       "                    require(['plotly'], function(plotly) {\n",
       "                      window.Plotly=plotly;\n",
       "Plotly.react(div, data, layout, config);                    });\n",
       "                  }\n",
       "                }\n",
       "            }\n",
       "</script>\n",
       "<div id=\"fa4bea7b-9d2b-11ee-b875-d0ebfd2fec7c\"></div>\n",
       "\n",
       "<script>\n",
       "Plotly.react(document.getElementById('fa4bea7b-9d2b-11ee-b875-d0ebfd2fec7c'),[{\"x\":[0.200000004470348,0.7,1.2,1.7,2.2,2.7,3.2,3.7,4.2,4.7,5.2,5.7,6.2,6.7,7.2,7.7,8.2,8.7,9.2,9.7,10.2,10.7,11.2,11.7,12.2,12.7,13.2,13.7,14.2,14.7,15.2,15.7,16.2,16.7,17.2,17.7,18.2,18.7,19.2,19.7,20.2,20.7,21.2,21.7,22.2,22.7,23.2,23.7,24.2,24.7,25.2,25.7,26.2,26.7,27.2,27.7,28.2,28.7,29.2,29.7,30.2,30.7,31.2,31.7,32.2,32.7,33.2,33.7,34.2,34.7,35.2,35.7,36.2,36.7,37.2,37.7,38.2,38.7,39.2,39.7,40.2,40.7,41.2,41.7,42.2,42.7,43.2,43.7,44.2,44.7,45.2,45.7,46.2,46.7,47.2,47.7,48.2,48.7,49.2,49.7],\"type\":\"scatter\",\"name\":\"train_ppl\",\"y\":[24.2043273925781,21.894945526123,22.5751266479492,21.5043891906738,22.1631660461426,20.5015148162842,20.6349197387695,21.1720851898193,18.2304595947266,17.0422582626343,17.3061529159546,15.7642826080322,15.0963869094849,14.6635850906372,13.8006858825684,13.8696239471436,12.9708475112915,12.9756782531738,12.2576993942261,12.1110389709473,11.7089159011841,11.4109394073486,11.1819412231445,11.0214460372925,10.6240610122681,10.6525751113892,10.0490339279175,10.0263742446899,9.63446655273438,9.67084770202637,9.26517219543457,9.4322193145752,9.08563709259033,9.0625150680542,8.69691886901856,8.82262115478516,8.49325580596924,8.53749847412109,8.23703994750977,8.2792272567749,8.01810159683228,7.99558906555176,7.75374174118042,7.7710018157959,7.55437259674072,7.64724893569946,7.37303056716919,7.36871137619019,7.28389682769775,7.25790348052979,7.07891893386841,6.99292078018189,6.78145427703857,6.89425506591797,6.76770038604736,6.59077653884888,6.64183320999146,6.51755628585815,6.36818256378174,6.3323091506958,6.30982875823975,6.23224658966064,6.12863721847534,6.07659854888916,6.02961950302124,5.92695722579956,5.98424186706543,5.8971284866333,5.82874822616577,5.81324310302734,5.70038566589355,5.6823826789856,5.70326957702637,5.58914680480957,5.50643081665039,5.49718027114868,5.48030652999878,5.44056978225708,5.42849607467651,5.36583967208862,5.36835422515869,5.32503232955933,5.33646192550659,5.2049656867981,5.12788257598877,5.17982749938965,5.12851486206055,5.12088413238525,5.01402969360352,5.05392732620239,4.9894492149353,4.93018493652344,5.01506805419922,4.97175559997559,4.90803213119507,4.88465175628662,4.89015064239502,4.83038263320923,4.79571857452393,4.83914518356323],\"line\":{\"color\":\"blue\",\"dash\":\"solid\"}},{\"x\":[0.899999988079071,1.89999997615814,2.9,3.90000004768372,4.9,5.9,6.9,7.90000009536743,8.9,9.9,10.9,11.9,12.9,13.9,14.9,15.8999998092651,16.9,17.9,18.9,19.9,20.9,21.9,22.9,23.9,24.9,25.9,26.9,27.9,28.9,29.9,30.9,31.8999996185303,32.9,33.9,34.9,35.9,36.9,37.9,38.9,39.9,40.9,41.9,42.9,43.9,44.9,45.9,46.9,47.9,48.9,49.9],\"type\":\"scatter\",\"name\":\"val_ppl\",\"line\":{\"color\":\"orange\",\"dash\":\"dot\"},\"y\":[24.9951061248779,24.0585361480713,23.6950252532959,18.0938522338867,19.2743640899658,13.9241769790649,12.2164867401123,11.1405750274658,11.5110506057739,12.0578437805176,11.4795034408569,10.6890480041504,10.1153160095215,9.99899291992188,9.34088382720947,9.47669715881348,9.24119491577148,8.86705741882324,9.10637722015381,8.88643016815186,8.62669868469238,7.85682039260864,8.23451814651489,8.19442768096924,8.19314956665039,7.83827247619629,7.71954860687256,7.97828741073608,7.79480228424072,7.64137582778931,7.13520565032959,7.60670928955078,7.68031806945801,7.59984407424927,7.2799898147583,7.49109687805176,7.39644422531128,7.24455051422119,7.46563320159912,7.4974383354187,7.15618209838867,7.01374034881592,7.16278896331787,7.07801532745361,7.07787733078003,7.27015399932861,7.15569610595703,7.4181097984314,6.87635374069214,6.76987895965576]}] ,{\"xaxis\":{\"title\":\"epoch\",\"range\":[0,50],\"type\":\"linear\"},\"title\":{\"text\":\"\"},\"yaxis\":{\"type\":\"linear\"},\"width\":3.5,\"height\":2.5} );\n",
       "</script>\n"
      ]
     },
     "metadata": {},
     "output_type": "display_data"
    }
   ],
   "source": [
    "package LSTM {\n",
    "    use base qw(d2l::RNN);\n",
    "\n",
    "    sub new {\n",
    "        my ($class, %args) = (shift, d2l->get_arguments(num_hiddens=>0, \\@_));\n",
    "        \n",
    "        my $self = new d2l::Module(%args);\n",
    "        \n",
    "        $self->save_hyperparameters(%args);\n",
    "        $self->{rnn} = mx->gluon->rnn->LSTM($args{num_hiddens});\n",
    "        $self->register_child($self->{rnn});\n",
    "        \n",
    "        return bless($self, $class);\n",
    "    };\n",
    "    \n",
    "    sub forward {\n",
    "       my ($self, %args) =(shift, d2l->get_arguments(inputs=>undef,\n",
    "                                                     H_C=>undef, \\@_)); \n",
    "         unless (defined $args{H_C}){    \n",
    "            $args{H_C} = $self->{rnn}->begin_state($args{inputs}->shape->[1], \n",
    "                                                    ctx=>$args{inputs}->context);\n",
    "         } \n",
    "\n",
    "        return $self->{rnn}->($args{inputs}, $args{H_C});\n",
    "     };    \n",
    "\n",
    "   1;\n",
    "}\n",
    "\n",
    "$lstm = new LSTM(num_hiddens => 32);\n",
    "$model = new d2l::RNNLM($lstm, vocab_size =>$data->{vocab}->len(), lr => 4);\n",
    "$trainer->fit($model, $data);"
   ]
  },
  {
   "cell_type": "code",
   "execution_count": 9,
   "id": "35e84893",
   "metadata": {},
   "outputs": [
    {
     "data": {
      "text/plain": [
       "it has dimension the time "
      ]
     },
     "execution_count": 9,
     "metadata": {},
     "output_type": "execute_result"
    }
   ],
   "source": [
    "$model->predict('it has', 20, $data->{vocab}, d2l->try_gpu());"
   ]
  },
  {
   "cell_type": "markdown",
   "id": "564fac50",
   "metadata": {},
   "source": [
    "LSTMs are the prototypical latent variable autoregressive model with nontrivial state control. Many variants thereof have been proposed over the years, e.g., multiple layers, residual connections, different types of regularization. However, training LSTMs and other sequence models (such as GRUs) is quite costly because of the long range dependency of the sequence. Later we will encounter alternative models such as Transformers that can be used in some cases."
   ]
  },
  {
   "cell_type": "markdown",
   "id": "e0bd669e",
   "metadata": {},
   "source": [
    "### 10.1.4. Summary\n",
    "\n",
    "While LSTMs were published in 1997, \n",
    "they rose to great prominence \n",
    "with some victories in prediction competitions in the mid-2000s,\n",
    "and became the dominant models for sequence learning from 2011 \n",
    "until the rise of Transformer models, starting in 2017.\n",
    "Even Tranformers owe some of their key ideas \n",
    "to architecture design innovations introduced by the LSTM.\n",
    "\n",
    "\n",
    "LSTMs have three types of gates: \n",
    "input gates, forget gates, and output gates \n",
    "that control the flow of information.\n",
    "The hidden layer output of LSTM includes the hidden state and the memory cell internal state. \n",
    "Only the hidden state is passed into the output layer while \n",
    "the memory cell internal state remains entirely internal.\n",
    "LSTMs can alleviate vanishing and exploding gradients."
   ]
  },
  {
   "cell_type": "markdown",
   "id": "878f0b34",
   "metadata": {},
   "source": [
    "### 10.1.5. Exercises\n",
    "\n",
    "1. Adjust the hyperparameters and analyze their influence on running time, perplexity, and the output sequence.\n",
    "1. How would you need to change the model to generate proper words rather than just sequences of characters?\n",
    "1. Compare the computational cost for GRUs, LSTMs, and regular RNNs for a given hidden dimension. Pay special attention to the training and inference cost.\n",
    "1. Since the candidate memory cell ensures that the value range is between $-1$ and $1$ by  using the $\\tanh$ function, why does the hidden state need to use the $\\tanh$ function again to ensure that the output value range is between $-1$ and $1$?\n",
    "1. Implement an LSTM model for time series prediction rather than character sequence prediction."
   ]
  }
 ],
 "metadata": {
  "kernelspec": {
   "display_name": "IPerl 0.011",
   "language": "perl",
   "name": "iperl"
  },
  "language_info": {
   "file_extension": ".pl",
   "mimetype": "text/x-perl",
   "name": "perl",
   "version": "5.32.1"
  }
 },
 "nbformat": 4,
 "nbformat_minor": 5
}
